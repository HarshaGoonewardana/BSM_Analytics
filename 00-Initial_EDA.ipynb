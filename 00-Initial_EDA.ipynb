{
 "cells": [
  {
   "cell_type": "code",
   "execution_count": 1,
   "metadata": {
    "collapsed": true
   },
   "outputs": [],
   "source": [
    "# Import packages\n",
    "import numpy as np\n",
    "import pandas as pd\n",
    "import matplotlib.pyplot as plt\n",
    "import seaborn as sns\n",
    "\n",
    "np.random.seed(2012)"
   ]
  },
  {
   "cell_type": "code",
   "execution_count": 2,
   "metadata": {
    "collapsed": true
   },
   "outputs": [],
   "source": [
    "# Configure visual settings:\n",
    "%matplotlib inline \n",
    "plt.rcParams['figure.figsize'] = (10.0, 8.0) \n",
    "plt.style.use(['bmh'])"
   ]
  },
  {
   "cell_type": "code",
   "execution_count": 100,
   "metadata": {
    "collapsed": true
   },
   "outputs": [],
   "source": [
    "# Load the data\n",
    "data = pd.read_excel('assets/BSM_20171215.xlsx')"
   ]
  },
  {
   "cell_type": "code",
   "execution_count": 101,
   "metadata": {},
   "outputs": [
    {
     "data": {
      "text/plain": [
       "(17244, 148)"
      ]
     },
     "execution_count": 101,
     "metadata": {},
     "output_type": "execute_result"
    }
   ],
   "source": [
    "# 17,244 observations across 148 variables\n",
    "data.shape"
   ]
  },
  {
   "cell_type": "code",
   "execution_count": 102,
   "metadata": {},
   "outputs": [
    {
     "data": {
      "text/plain": [
       "location4.address                   17244\n",
       "location4.loadingDock               17244\n",
       "location4.parkingPermit             17244\n",
       "location4.reservedElevatorDockID    17244\n",
       "\\tlocation4.elevatorTypeID          17244\n",
       "drivingLeg1                         17244\n",
       "location4.unitNumber\\t              17244\n",
       "location4.unitTypeID\\t              17244\n",
       "location4.buildingID\\t              17244\n",
       "location4.parking                   17244\n",
       "dtype: int64"
      ]
     },
     "execution_count": 102,
     "metadata": {},
     "output_type": "execute_result"
    }
   ],
   "source": [
    "# Many variables are null, including some are exclusively null:\n",
    "data.isnull().sum().sort_values(ascending=False).head(10)"
   ]
  },
  {
   "cell_type": "code",
   "execution_count": 103,
   "metadata": {
    "collapsed": true
   },
   "outputs": [],
   "source": [
    "# Drop columns if all values are null:\n",
    "data.dropna(axis=1, how='all', inplace=True)"
   ]
  },
  {
   "cell_type": "code",
   "execution_count": 104,
   "metadata": {},
   "outputs": [
    {
     "data": {
      "text/plain": [
       "92"
      ]
     },
     "execution_count": 104,
     "metadata": {},
     "output_type": "execute_result"
    }
   ],
   "source": [
    "# We've got a lot of columns, lets define a quick function\n",
    "# to search column names:\n",
    "\n",
    "def column_search(substring, df=data, notin=False):\n",
    "    if notin:\n",
    "        return([x for x in df.columns if substring not in x])\n",
    "    return([x for x in df.columns if substring in x])\n",
    "    \n",
    "len(column_search('location'))\n",
    "\n",
    "# Of the remaining 131 columns, 92 of them are related to client locations,\n",
    "# with data on as many as 4 distinct locations in one move."
   ]
  },
  {
   "cell_type": "code",
   "execution_count": 105,
   "metadata": {},
   "outputs": [
    {
     "data": {
      "text/plain": [
       "['custom_quotes.help_you',\n",
       " 'custom_quotes.res_com',\n",
       " 'custom_quotes.help_packing',\n",
       " 'custom_quotes.first_choice_date',\n",
       " 'custom_quotes.first_choice_time',\n",
       " 'custom_quotes.second_choice_date',\n",
       " 'custom_quotes.second_choice_time',\n",
       " 'custom_quotes.third_choice_date',\n",
       " 'custom_quotes.third_choice_time',\n",
       " 'custom_quotes.boxes',\n",
       " 'custom_quotes.furniture',\n",
       " 'custom_quotes.reference',\n",
       " 'custom_quotes.reference_category',\n",
       " 'custom_quotes.mention',\n",
       " 'custom_quotes.move_datetime',\n",
       " 'custom_quotes.est_hours',\n",
       " 'custom_quotes.stdDev',\n",
       " 'custom_quotes.truck',\n",
       " 'custom_quotes.num_movers',\n",
       " 'custom_quotes.rate',\n",
       " 'custom_quotes.travel_fee',\n",
       " 'custom_quotes.min_hours']"
      ]
     },
     "execution_count": 105,
     "metadata": {},
     "output_type": "execute_result"
    }
   ],
   "source": [
    "column_search('custom_quotes')\n",
    "\n",
    "# The next group of columns are client-submitted info plus\n",
    "# how many movers BSM has assigned to the job, what size\n",
    "# truck was sent, and the ultimate cost of the job."
   ]
  },
  {
   "cell_type": "code",
   "execution_count": 106,
   "metadata": {},
   "outputs": [
    {
     "data": {
      "text/plain": [
       "['drivingLeg2', 'drivingLeg3', 'drivingLeg4', 'drivingLeg5']"
      ]
     },
     "execution_count": 106,
     "metadata": {},
     "output_type": "execute_result"
    }
   ],
   "source": [
    "column_search('driving')\n",
    "# The rest of the columns are estimated details on the\n",
    "# length of each driving leg. \n",
    "# Since the client does not pay for the first driving \n",
    "# leg (to the first location) that data field does not\n",
    "# exist, although they may sometimes be charged a travel\n",
    "# fee."
   ]
  },
  {
   "cell_type": "code",
   "execution_count": 107,
   "metadata": {},
   "outputs": [
    {
     "data": {
      "text/plain": [
       "['custom_quotes.help_you',\n",
       " 'custom_quotes.res_com',\n",
       " 'custom_quotes.help_packing',\n",
       " 'custom_quotes.first_choice_date',\n",
       " 'custom_quotes.first_choice_time',\n",
       " 'custom_quotes.second_choice_date',\n",
       " 'custom_quotes.second_choice_time',\n",
       " 'custom_quotes.third_choice_date',\n",
       " 'custom_quotes.third_choice_time',\n",
       " 'custom_quotes.boxes',\n",
       " 'custom_quotes.furniture',\n",
       " 'custom_quotes.reference',\n",
       " 'custom_quotes.reference_category',\n",
       " 'custom_quotes.mention',\n",
       " 'custom_quotes.move_datetime',\n",
       " 'custom_quotes.est_hours',\n",
       " 'custom_quotes.stdDev',\n",
       " 'custom_quotes.truck',\n",
       " 'custom_quotes.num_movers',\n",
       " 'custom_quotes.rate',\n",
       " 'custom_quotes.travel_fee',\n",
       " 'custom_quotes.min_hours',\n",
       " 'actualRate',\n",
       " 'cc_hours',\n",
       " 'pre_move_notes',\n",
       " 'estMeters1',\n",
       " 'estSeconds1',\n",
       " 'drivingLeg2',\n",
       " 'estMeters2',\n",
       " 'estSeconds2',\n",
       " 'drivingLeg3',\n",
       " 'estMeters3',\n",
       " 'estSeconds3',\n",
       " 'drivingLeg4',\n",
       " 'estMeters4',\n",
       " 'estSeconds4',\n",
       " 'drivingLeg5',\n",
       " 'estMeters5',\n",
       " 'estSeconds5']"
      ]
     },
     "execution_count": 107,
     "metadata": {},
     "output_type": "execute_result"
    }
   ],
   "source": [
    "column_search('location', notin=True)"
   ]
  },
  {
   "cell_type": "code",
   "execution_count": 108,
   "metadata": {},
   "outputs": [
    {
     "data": {
      "text/plain": [
       "<matplotlib.axes._subplots.AxesSubplot at 0x1fe5317a6d8>"
      ]
     },
     "execution_count": 108,
     "metadata": {},
     "output_type": "execute_result"
    },
    {
     "data": {
      "image/png": "[encoded data removed]",
      "text/plain": [
       "<matplotlib.figure.Figure at 0x1fe5317ad30>"
      ]
     },
     "metadata": {},
     "output_type": "display_data"
    }
   ],
   "source": [
    "sns.regplot('estMeters1','estSeconds1',data)\n",
    "\n",
    "# Something fishy going on between the length of the first driving leg\n",
    "# and its duration. It appears we have a lot of unreasonably low, or null,\n",
    "# values for the duration. Maybe this is a data point we have only recently begun to collect?"
   ]
  },
  {
   "cell_type": "code",
   "execution_count": 109,
   "metadata": {},
   "outputs": [
    {
     "data": {
      "text/plain": [
       "location1.address      11\n",
       "location2.address    1729\n",
       "dtype: int64"
      ]
     },
     "execution_count": 109,
     "metadata": {},
     "output_type": "execute_result"
    }
   ],
   "source": [
    "data[['location1.address','location2.address']].isnull().sum()\n",
    "\n",
    "# We only observe 11 null values for the first address. Even labor jobs\n",
    "# around the warehouse get an address for the first location."
   ]
  },
  {
   "cell_type": "code",
   "execution_count": 110,
   "metadata": {
    "collapsed": true
   },
   "outputs": [],
   "source": [
    "raw_data = data"
   ]
  },
  {
   "cell_type": "code",
   "execution_count": 111,
   "metadata": {
    "collapsed": true
   },
   "outputs": [],
   "source": [
    "# Ultimately we really just want typical jobs with 1 origin\n",
    "# and 1 destination:\n",
    "\n",
    "# Drop any observations with missing fields for the first two addresses\n",
    "data = raw_data \n",
    "\n",
    "data.dropna(subset= ['location1.address','location2.address'], how='any', inplace=True)\n",
    "\n",
    "#"
   ]
  },
  {
   "cell_type": "code",
   "execution_count": 112,
   "metadata": {
    "collapsed": true
   },
   "outputs": [],
   "source": [
    "data = data.loc[data['location3.address'].isnull()]"
   ]
  },
  {
   "cell_type": "code",
   "execution_count": 113,
   "metadata": {},
   "outputs": [
    {
     "name": "stderr",
     "output_type": "stream",
     "text": [
      "C:\\Users\\benps\\Anaconda3\\lib\\site-packages\\ipykernel_launcher.py:1: SettingWithCopyWarning: \n",
      "A value is trying to be set on a copy of a slice from a DataFrame\n",
      "\n",
      "See the caveats in the documentation: http://pandas.pydata.org/pandas-docs/stable/indexing.html#indexing-view-versus-copy\n",
      "  \"\"\"Entry point for launching an IPython kernel.\n"
     ]
    }
   ],
   "source": [
    "data.dropna(axis=1, how='all', inplace=True)"
   ]
  },
  {
   "cell_type": "code",
   "execution_count": 114,
   "metadata": {},
   "outputs": [
    {
     "data": {
      "text/plain": [
       "(14578, 106)"
      ]
     },
     "execution_count": 114,
     "metadata": {},
     "output_type": "execute_result"
    }
   ],
   "source": [
    "data.shape"
   ]
  },
  {
   "cell_type": "code",
   "execution_count": 115,
   "metadata": {
    "collapsed": true
   },
   "outputs": [],
   "source": [
    "# We only want residential jobs.\n",
    "\n",
    "data = data[data['custom_quotes.res_com'] == 'Resid']\n",
    "data.drop('custom_quotes.res_com', axis=1, inplace=True)"
   ]
  },
  {
   "cell_type": "code",
   "execution_count": 116,
   "metadata": {
    "collapsed": true
   },
   "outputs": [],
   "source": [
    "# Only jobs with a truck (not labor jobs)\n",
    "\n",
    "data = data[data['custom_quotes.help_you'] == 'Move (with truck)']"
   ]
  },
  {
   "cell_type": "code",
   "execution_count": 117,
   "metadata": {
    "collapsed": true
   },
   "outputs": [],
   "source": [
    "data.drop('custom_quotes.help_you', axis=1, inplace=True)"
   ]
  },
  {
   "cell_type": "code",
   "execution_count": 118,
   "metadata": {
    "collapsed": true
   },
   "outputs": [],
   "source": [
    "data.drop(column_search('choice'), axis=1, inplace=True)"
   ]
  },
  {
   "cell_type": "code",
   "execution_count": 119,
   "metadata": {},
   "outputs": [],
   "source": [
    "data.drop(column_search('3', df=data), axis=1, inplace=True)"
   ]
  },
  {
   "cell_type": "code",
   "execution_count": 120,
   "metadata": {
    "collapsed": true
   },
   "outputs": [],
   "source": [
    "data.drop(column_search('4', df=data), axis=1, inplace=True)"
   ]
  },
  {
   "cell_type": "code",
   "execution_count": 121,
   "metadata": {},
   "outputs": [
    {
     "data": {
      "text/plain": [
       "[]"
      ]
     },
     "execution_count": 121,
     "metadata": {},
     "output_type": "execute_result"
    }
   ],
   "source": [
    "column_search('3', df=data)"
   ]
  },
  {
   "cell_type": "code",
   "execution_count": 122,
   "metadata": {
    "collapsed": true
   },
   "outputs": [],
   "source": [
    "data.dropna(axis=1, how='all', inplace=True)"
   ]
  },
  {
   "cell_type": "code",
   "execution_count": 123,
   "metadata": {},
   "outputs": [
    {
     "data": {
      "text/plain": [
       "location2.parkingPermit        1\n",
       "drivingLeg2                    1\n",
       "location2.order                1\n",
       "location1.parkingPermit        1\n",
       "location1.order                1\n",
       "custom_quotes.travel_fee       1\n",
       "location1.geocodeResultCode    2\n",
       "location2.geocodeResultCode    2\n",
       "location1.state                3\n",
       "location1.parkingType          4\n",
       "custom_quotes.help_packing     5\n",
       "custom_quotes.min_hours        5\n",
       "location2.parkingType          5\n",
       "location2.state                8\n",
       "custom_quotes.stdDev           9\n",
       "dtype: int64"
      ]
     },
     "execution_count": 123,
     "metadata": {},
     "output_type": "execute_result"
    }
   ],
   "source": [
    "data.apply(pd.Series.nunique).sort_values().head(15)\n",
    "\n",
    "# Lots of uniformative, useless columns now:"
   ]
  },
  {
   "cell_type": "code",
   "execution_count": 124,
   "metadata": {
    "collapsed": true
   },
   "outputs": [],
   "source": [
    "data.drop(['location2.parkingPermit','drivingLeg2','location2.order','location1.parkingPermit','location1.order'], axis=1, inplace=True)"
   ]
  },
  {
   "cell_type": "code",
   "execution_count": 125,
   "metadata": {},
   "outputs": [],
   "source": [
    "data['custom_quotes.stdDev'].value_counts()\n",
    "\n",
    "# Not quite sure what this is. I think it has something to do with the relationship\n",
    "# between estimated hours and the minimum, but it is unclear. \n",
    "\n",
    "# Drop it!\n",
    "data.drop('custom_quotes.stdDev', axis=1, inplace=True)"
   ]
  },
  {
   "cell_type": "code",
   "execution_count": 126,
   "metadata": {},
   "outputs": [
    {
     "data": {
      "text/plain": [
       "custom_quotes.help_packing                                                        Yes\n",
       "custom_quotes.boxes                                                           40 - 50\n",
       "custom_quotes.furniture             Queen size bed \\nToddler bed\\nLarge dresser \\n...\n",
       "custom_quotes.reference                                          you moved us before!\n",
       "custom_quotes.reference_category                                      Repeat Customer\n",
       "custom_quotes.mention               We would like you to pack/unpack\\nWe would lik...\n",
       "custom_quotes.move_datetime                                       2017-10-23 09:00:00\n",
       "custom_quotes.est_hours                                                             5\n",
       "custom_quotes.truck                                                                30\n",
       "custom_quotes.num_movers                                                            5\n",
       "custom_quotes.rate                                                                250\n",
       "custom_quotes.travel_fee                                                          NaN\n",
       "custom_quotes.min_hours                                                             3\n",
       "location1.address                                                     3420 16th St NW\n",
       "location1.city\\t                                                           Washington\n",
       "location1.state                                                                    DC\n",
       "location1.zipCode                                                               20010\n",
       "location1.lengthOfWalkOptID                                                         2\n",
       "location1.sqFt                                                                   1200\n",
       "location1.elevatorType                                                     Yes, small\n",
       "location1.stairs                                                                 None\n",
       "location1.parkingType                                                          Street\n",
       "location1.placeType                                               2 bedroom apartment\n",
       "location1.timeRestr                                                               NaN\n",
       "location1.region\\t                                                                 NW\n",
       "location1.lat                                                                 38.9337\n",
       "location1.lng                                                                -77.0369\n",
       "location1.datetime                                                2017-10-20 16:38:41\n",
       "location1.geocodedAddress                  3420 16th St NW, Washington, DC 20010, USA\n",
       "\\tlocation1.county\\t                                                       Washington\n",
       "location1.geocodeResultCode                                                        OK\n",
       "location2.address                                         121 Rock Creek Church Rd NW\n",
       "location2.city\\t                                                           Washington\n",
       "location2.state                                                                    DC\n",
       "location2.zipCode                                                               20011\n",
       "location2.lengthOfWalkOptID                                                         2\n",
       "location2.sqFt                                                                   2288\n",
       "location2.elevatorType                                                           None\n",
       "location2.stairs                                                             1 flight\n",
       "location2.parkingType                                                          Street\n",
       "location2.placeType                                                   3 bedroom house\n",
       "location2.timeRestr                                                               NaN\n",
       "location2.region\\t                                                                 NW\n",
       "location2.lat                                                                 38.9428\n",
       "location2.lng                                                                -77.0131\n",
       "location2.`datetime`                                              2017-10-20 16:38:41\n",
       "location2.geocodedAddress           121 Rock Creek Church Rd NW, Washington, DC 20...\n",
       "\\tlocation2.county\\t                                                       Washington\n",
       "location2.geocodeResultCode                                                        OK\n",
       "actualRate                                                                        250\n",
       "cc_hours                                                                          5.5\n",
       "pre_move_notes                      - Yelper\\n- Pack+Move: Move\\n- Packing on 10/2...\n",
       "estMeters1                                                                      10334\n",
       "estSeconds1                                                                      1730\n",
       "estMeters2                                                                       2854\n",
       "estSeconds2                                                                       616\n",
       "Name: 735, dtype: object"
      ]
     },
     "execution_count": 126,
     "metadata": {},
     "output_type": "execute_result"
    }
   ],
   "source": [
    "data.iloc[500,:]"
   ]
  },
  {
   "cell_type": "code",
   "execution_count": 127,
   "metadata": {
    "collapsed": true
   },
   "outputs": [],
   "source": [
    "data['custom_quotes.move_datetime'] = pd.to_datetime(data['custom_quotes.move_datetime'])"
   ]
  },
  {
   "cell_type": "code",
   "execution_count": 128,
   "metadata": {},
   "outputs": [],
   "source": [
    "data['location1.datetime'].value_counts()\n",
    "\n",
    "# Not an informative column.\n",
    "\n",
    "data.drop('location1.datetime', axis=1, inplace=True)\n",
    "\n",
    "\n",
    "data.drop('location2.`datetime`', axis=1, inplace=True)"
   ]
  },
  {
   "cell_type": "code",
   "execution_count": 129,
   "metadata": {
    "collapsed": true
   },
   "outputs": [],
   "source": [
    "# Ugly for loop, but thats OK:\n",
    "\n",
    "for col in data.columns:\n",
    "    if data[col].dtype == object:\n",
    "        data[col].fillna('', inplace=True)\n",
    "        \n",
    "        "
   ]
  },
  {
   "cell_type": "code",
   "execution_count": 130,
   "metadata": {
    "collapsed": true
   },
   "outputs": [],
   "source": [
    "data.columns = data.columns.str.replace('custom_quotes.','')\n",
    "data.columns = data.columns.str.replace('\\t','')\n",
    "data.columns = data.columns.str.replace('location','loc')"
   ]
  },
  {
   "cell_type": "code",
   "execution_count": 131,
   "metadata": {
    "collapsed": true
   },
   "outputs": [],
   "source": [
    "data['loc1.fullAddress'] = data['loc1.address'].astype(str) + ', ' + data['loc1.city'].astype(str) + ', ' + data['loc2.state'].astype(str) + ', ' + data['loc2.zipCode'].astype(str)\n",
    "\n",
    "data['loc2.fullAddress'] = data['loc2.address'].astype(str) + ', ' + data['loc2.city'].astype(str) + ', ' + data['loc2.state'].astype(str) + ', ' + data['loc2.zipCode'].astype(str)"
   ]
  },
  {
   "cell_type": "code",
   "execution_count": 132,
   "metadata": {},
   "outputs": [
    {
     "data": {
      "text/plain": [
       "(4571, 56)"
      ]
     },
     "execution_count": 132,
     "metadata": {},
     "output_type": "execute_result"
    }
   ],
   "source": [
    "data[data['loc1.geocodedAddress'] == ''].shape"
   ]
  },
  {
   "cell_type": "markdown",
   "metadata": {},
   "source": [
    "### Labelling Trucks"
   ]
  },
  {
   "cell_type": "code",
   "execution_count": 140,
   "metadata": {},
   "outputs": [],
   "source": [
    "data['truck'].fillna(32, inplace=True)"
   ]
  },
  {
   "cell_type": "code",
   "execution_count": 142,
   "metadata": {
    "collapsed": true
   },
   "outputs": [],
   "source": [
    "truck_df = pd.read_csv('assets/trucks.csv', index_col=0)\n",
    "truck_df.drop('\\t', axis=0, inplace=True)"
   ]
  },
  {
   "cell_type": "code",
   "execution_count": 143,
   "metadata": {},
   "outputs": [],
   "source": [
    "truck_df = truck_df.set_index(truck_df.index.astype(int))"
   ]
  },
  {
   "cell_type": "code",
   "execution_count": 152,
   "metadata": {},
   "outputs": [],
   "source": [
    "data['truck_type'] = [truck_df.loc[i,'truck_type'] for i in data['truck']]"
   ]
  },
  {
   "cell_type": "code",
   "execution_count": 153,
   "metadata": {},
   "outputs": [],
   "source": [
    "data['truck'] = [truck_df.loc[i,'truck_name'] for i in data['truck']]"
   ]
  },
  {
   "cell_type": "code",
   "execution_count": 155,
   "metadata": {},
   "outputs": [
    {
     "data": {
      "text/plain": [
       "Little    8276\n",
       "Big       3738\n",
       "NAT         31\n",
       "Name: truck_type, dtype: int64"
      ]
     },
     "execution_count": 155,
     "metadata": {},
     "output_type": "execute_result"
    }
   ],
   "source": [
    "data['truck_type'].value_counts()"
   ]
  },
  {
   "cell_type": "code",
   "execution_count": 157,
   "metadata": {},
   "outputs": [],
   "source": [
    "assert data.shape[0] == 12045"
   ]
  },
  {
   "cell_type": "code",
   "execution_count": 158,
   "metadata": {
    "collapsed": true
   },
   "outputs": [],
   "source": [
    "data.to_csv('assets/clean_data.csv')"
   ]
  },
  {
   "cell_type": "code",
   "execution_count": 159,
   "metadata": {
    "collapsed": true
   },
   "outputs": [],
   "source": [
    "data.to_pickle('assets/clean_data.p')"
   ]
  }
 ],
 "metadata": {
  "kernelspec": {
   "display_name": "Python 3",
   "language": "python",
   "name": "python3"
  },
  "language_info": {
   "codemirror_mode": {
    "name": "ipython",
    "version": 3
   },
   "file_extension": ".py",
   "mimetype": "text/x-python",
   "name": "python",
   "nbconvert_exporter": "python",
   "pygments_lexer": "ipython3",
   "version": "3.6.3"
  }
 },
 "nbformat": 4,
 "nbformat_minor": 2
}
