{
 "cells": [
  {
   "cell_type": "code",
   "execution_count": 1,
   "metadata": {
    "collapsed": true
   },
   "outputs": [],
   "source": [
    "# Import packages\n",
    "import numpy as np\n",
    "import pandas as pd\n",
    "import matplotlib.pyplot as plt\n",
    "import seaborn as sns\n",
    "\n",
    "np.random.seed(2012)\n",
    "\n",
    "# Configure visual settings:\n",
    "%matplotlib inline \n",
    "plt.rcParams['figure.figsize'] = (10.0, 8.0) \n",
    "plt.style.use(['bmh'])\n",
    "\n",
    "# Load the dataframe\n",
    "data = pd.read_pickle('assets/engineered_data1.p')"
   ]
  },
  {
   "cell_type": "code",
   "execution_count": 2,
   "metadata": {},
   "outputs": [
    {
     "data": {
      "text/plain": [
       "help_packing                                                            Yes\n",
       "boxes                                                                    45\n",
       "furniture                 Sectional Sofa (11'6\"x7'10\"x2'9\"), Desk (5'x2'...\n",
       "reference                       Good reviews online. Seen truck everywhere.\n",
       "mention                   Would like to receive two estimates: one for p...\n",
       "est_hours                                                              3.25\n",
       "truck                                                              Behemoth\n",
       "num_movers                                                                3\n",
       "rate                                                                    200\n",
       "travel_fee                                                                1\n",
       "min_hours                                                                 3\n",
       "loc1.lengthOfWalkOptID                                                    6\n",
       "loc1.sqFt                                                               800\n",
       "loc1.elevatorType                                                     Large\n",
       "loc1.stairs                                                               0\n",
       "loc1.parkingType                                               Loading Dock\n",
       "loc1.placeType                                          1 bedroom apartment\n",
       "loc1.lat                                                            38.8339\n",
       "loc1.lng                                                           -77.0624\n",
       "loc1.geocodedAddress      3201 Landover St #1723, Alexandria, VA 22305, USA\n",
       "loc2.lengthOfWalkOptID                                                    6\n",
       "loc2.sqFt                                                               700\n",
       "loc2.elevatorType                                                      None\n",
       "loc2.stairs                                                               0\n",
       "loc2.parkingType                                                Parking Lot\n",
       "loc2.placeType                                          1 bedroom apartment\n",
       "loc2.lat                                                            38.8573\n",
       "loc2.lng                                                           -77.0604\n",
       "loc2.geocodedAddress           815 18th St S #205, Arlington, VA 22202, USA\n",
       "actualRate                                                              200\n",
       "cc_hours                                                                5.5\n",
       "pre_move_notes            - yelper \\n- travel fee: 0.5 hr\\n- 1 br apt to...\n",
       "estSeconds1                                                            1958\n",
       "estSeconds2                                                             585\n",
       "loc1.fullAddress          3201 Landover Street #1723, Alexandria, VA, 22202\n",
       "loc2.fullAddress               815 18th Street S #205, Arlington, VA, 22202\n",
       "truck_type                                                              Big\n",
       "Name: 0, dtype: object"
      ]
     },
     "execution_count": 2,
     "metadata": {},
     "output_type": "execute_result"
    }
   ],
   "source": [
    "data.iloc[0,:]"
   ]
  },
  {
   "cell_type": "code",
   "execution_count": 3,
   "metadata": {
    "scrolled": true
   },
   "outputs": [
    {
     "data": {
      "text/html": [
       "<div>\n",
       "<style>\n",
       "    .dataframe thead tr:only-child th {\n",
       "        text-align: right;\n",
       "    }\n",
       "\n",
       "    .dataframe thead th {\n",
       "        text-align: left;\n",
       "    }\n",
       "\n",
       "    .dataframe tbody tr th {\n",
       "        vertical-align: top;\n",
       "    }\n",
       "</style>\n",
       "<table border=\"1\" class=\"dataframe\">\n",
       "  <thead>\n",
       "    <tr style=\"text-align: right;\">\n",
       "      <th></th>\n",
       "      <th>loc1.fullAddress</th>\n",
       "      <th>loc1.lat</th>\n",
       "      <th>loc1.lng</th>\n",
       "      <th>loc1.geocodedAddress</th>\n",
       "      <th>loc2.fullAddress</th>\n",
       "      <th>loc2.lat</th>\n",
       "      <th>loc2.lng</th>\n",
       "      <th>loc2.geocodedAddress</th>\n",
       "    </tr>\n",
       "  </thead>\n",
       "  <tbody>\n",
       "    <tr>\n",
       "      <th>0</th>\n",
       "      <td>3201 Landover Street #1723, Alexandria, VA, 22202</td>\n",
       "      <td>38.833873</td>\n",
       "      <td>-77.062375</td>\n",
       "      <td>3201 Landover St #1723, Alexandria, VA 22305, USA</td>\n",
       "      <td>815 18th Street S #205, Arlington, VA, 22202</td>\n",
       "      <td>38.857344</td>\n",
       "      <td>-77.060368</td>\n",
       "      <td>815 18th St S #205, Arlington, VA 22202, USA</td>\n",
       "    </tr>\n",
       "    <tr>\n",
       "      <th>1</th>\n",
       "      <td>1437 Spring Road NW, Washington, DC, 20009</td>\n",
       "      <td>38.937674</td>\n",
       "      <td>-77.034692</td>\n",
       "      <td>1437 Spring Rd NW, Washington, DC 20010, USA</td>\n",
       "      <td>1688 Euclid Street NW, Washington, DC, 20009</td>\n",
       "      <td>38.923162</td>\n",
       "      <td>-77.038777</td>\n",
       "      <td>1688 Euclid St NW, Washington, DC 20009, USA</td>\n",
       "    </tr>\n",
       "    <tr>\n",
       "      <th>3</th>\n",
       "      <td>Metropolitan, 7620 Old Georgetown Road Apt 812...</td>\n",
       "      <td>38.985762</td>\n",
       "      <td>-77.096627</td>\n",
       "      <td></td>\n",
       "      <td>Courts of Devon, 505 Main Street, Apt 232, Gai...</td>\n",
       "      <td>39.120716</td>\n",
       "      <td>-77.235182</td>\n",
       "      <td></td>\n",
       "    </tr>\n",
       "    <tr>\n",
       "      <th>4</th>\n",
       "      <td>505 E Braddock Rd. #107, Alexandria, VA, 20165</td>\n",
       "      <td>38.812218</td>\n",
       "      <td>-77.054390</td>\n",
       "      <td>505 E Braddock Rd #107, Alexandria, VA 22314, USA</td>\n",
       "      <td>47587 Reer Terrace, Sterling, VA, 20165</td>\n",
       "      <td>39.039813</td>\n",
       "      <td>-77.352041</td>\n",
       "      <td>47587 Reef Terrace, Sterling, VA 20165, USA</td>\n",
       "    </tr>\n",
       "    <tr>\n",
       "      <th>7</th>\n",
       "      <td>3220 Connecticut Ave NW, Washington, DC, 20002</td>\n",
       "      <td>38.933215</td>\n",
       "      <td>-77.057620</td>\n",
       "      <td>3220 Connecticut Ave NW, Washington, DC 20008,...</td>\n",
       "      <td>1656 Rosedale St NE, Washington, DC, 20002</td>\n",
       "      <td>38.897448</td>\n",
       "      <td>-76.980548</td>\n",
       "      <td>1656 Rosedale St NE, Washington, DC 20002, USA</td>\n",
       "    </tr>\n",
       "  </tbody>\n",
       "</table>\n",
       "</div>"
      ],
      "text/plain": [
       "                                    loc1.fullAddress   loc1.lat   loc1.lng  \\\n",
       "0  3201 Landover Street #1723, Alexandria, VA, 22202  38.833873 -77.062375   \n",
       "1         1437 Spring Road NW, Washington, DC, 20009  38.937674 -77.034692   \n",
       "3  Metropolitan, 7620 Old Georgetown Road Apt 812...  38.985762 -77.096627   \n",
       "4     505 E Braddock Rd. #107, Alexandria, VA, 20165  38.812218 -77.054390   \n",
       "7     3220 Connecticut Ave NW, Washington, DC, 20002  38.933215 -77.057620   \n",
       "\n",
       "                                loc1.geocodedAddress  \\\n",
       "0  3201 Landover St #1723, Alexandria, VA 22305, USA   \n",
       "1       1437 Spring Rd NW, Washington, DC 20010, USA   \n",
       "3                                                      \n",
       "4  505 E Braddock Rd #107, Alexandria, VA 22314, USA   \n",
       "7  3220 Connecticut Ave NW, Washington, DC 20008,...   \n",
       "\n",
       "                                    loc2.fullAddress   loc2.lat   loc2.lng  \\\n",
       "0       815 18th Street S #205, Arlington, VA, 22202  38.857344 -77.060368   \n",
       "1       1688 Euclid Street NW, Washington, DC, 20009  38.923162 -77.038777   \n",
       "3  Courts of Devon, 505 Main Street, Apt 232, Gai...  39.120716 -77.235182   \n",
       "4            47587 Reer Terrace, Sterling, VA, 20165  39.039813 -77.352041   \n",
       "7         1656 Rosedale St NE, Washington, DC, 20002  38.897448 -76.980548   \n",
       "\n",
       "                             loc2.geocodedAddress  \n",
       "0    815 18th St S #205, Arlington, VA 22202, USA  \n",
       "1    1688 Euclid St NW, Washington, DC 20009, USA  \n",
       "3                                                  \n",
       "4     47587 Reef Terrace, Sterling, VA 20165, USA  \n",
       "7  1656 Rosedale St NE, Washington, DC 20002, USA  "
      ]
     },
     "execution_count": 3,
     "metadata": {},
     "output_type": "execute_result"
    }
   ],
   "source": [
    "data[['loc1.fullAddress','loc1.lat','loc1.lng','loc1.geocodedAddress',\n",
    "  'loc2.fullAddress','loc2.lat','loc2.lng','loc2.geocodedAddress']].head()\n"
   ]
  },
  {
   "cell_type": "code",
   "execution_count": 4,
   "metadata": {
    "collapsed": true
   },
   "outputs": [],
   "source": [
    "import requests\n",
    "\n",
    "url = 'https://www.python.org/'\n",
    "r = requests.get(url)\n",
    "\n",
    "assert type(r.text) == str"
   ]
  },
  {
   "cell_type": "code",
   "execution_count": 5,
   "metadata": {
    "collapsed": true
   },
   "outputs": [],
   "source": [
    "google_api_key = open('google_api_key.txt', mode='r').read()\n",
    "\n",
    "\n",
    "import googlemaps\n",
    "from datetime import datetime"
   ]
  },
  {
   "cell_type": "code",
   "execution_count": 6,
   "metadata": {
    "collapsed": true
   },
   "outputs": [],
   "source": [
    "gmaps = googlemaps.Client(key=google_api_key)\n",
    "\n",
    "#%%\n",
    "origins = ['19 Rock Creek Church Rd NW, Washington, DC 20011']\n",
    "destinations = ['1133 15th St NW, Washington, DC']\n",
    "\n",
    "\n",
    "# distance_results = gmaps.distance_matrix(origins, destinations, mode=\"driving\")\n",
    "\n",
    "import time"
   ]
  },
  {
   "cell_type": "code",
   "execution_count": 7,
   "metadata": {
    "collapsed": true
   },
   "outputs": [],
   "source": [
    "def get_driving_time(row, sleep=True):\n",
    "    origin = row['loc1.geocodedAddress']\n",
    "    destination = row['loc2.geocodedAddress']\n",
    "    if origin == '':\n",
    "        if row.isnull()['loc1.lat'] or row.isnull()['loc1.lng']:\n",
    "            origin = row['loc1.fullAddress']\n",
    "        else:\n",
    "            origin = row['loc1.lat'],row['loc1.lng']\n",
    "    if destination == '':\n",
    "        if row.isnull()['loc2.lat'] or row.isnull()['loc2.lat']:\n",
    "            destination = row['loc2.fullAddress']\n",
    "        else:\n",
    "            destination = row['loc2.lat'],row['loc2.lng']\n",
    "    \n",
    "    if sleep:\n",
    "        time.sleep(np.random.randint(1,2))\n",
    "    try:\n",
    "        distance_results = gmaps.distance_matrix(origin, destination, mode=\"driving\")\n",
    "        seconds = distance_results['rows'][0]['elements'][0]['duration']['value']\n",
    "    except:\n",
    "        return(np.nan)\n",
    "    return(seconds)"
   ]
  },
  {
   "cell_type": "code",
   "execution_count": 8,
   "metadata": {
    "collapsed": true
   },
   "outputs": [],
   "source": [
    "data = data.drop_duplicates()"
   ]
  },
  {
   "cell_type": "code",
   "execution_count": 9,
   "metadata": {},
   "outputs": [
    {
     "data": {
      "text/plain": [
       "587"
      ]
     },
     "execution_count": 9,
     "metadata": {},
     "output_type": "execute_result"
    }
   ],
   "source": [
    "get_driving_time(data.iloc[0,:], sleep = False)"
   ]
  },
  {
   "cell_type": "code",
   "execution_count": 10,
   "metadata": {
    "collapsed": true
   },
   "outputs": [],
   "source": [
    "test = [1,2,3]\n",
    "import pickle\n",
    "with open('test.p', 'wb') as f:\n",
    "    pickle.dump(test, f)"
   ]
  },
  {
   "cell_type": "code",
   "execution_count": 11,
   "metadata": {},
   "outputs": [
    {
     "data": {
      "text/plain": [
       "[1, 2, 3]"
      ]
     },
     "execution_count": 11,
     "metadata": {},
     "output_type": "execute_result"
    }
   ],
   "source": [
    "with open('test.p', 'rb') as f:\n",
    "    test2 = pickle.load(f)\n",
    "test2"
   ]
  },
  {
   "cell_type": "code",
   "execution_count": 12,
   "metadata": {
    "collapsed": true
   },
   "outputs": [],
   "source": [
    "# distance_list = []\n",
    "# for i in range(0,data.shape[0],100):\n",
    "#     start = i\n",
    "#     batch_list = [get_driving_time(data.iloc[x,:], sleep = False) for x in range(start, min(data.shape[0], i+100))]\n",
    "#     distance_list += batch_list\n",
    "#     print(i)\n",
    "#     if i % 1000 == 0:\n",
    "#         print('Pickling list')\n",
    "#         with open('distance_list.p', 'wb') as f:\n",
    "#             pickle.dump(distance_list, f) \n",
    "#     time.sleep(3)\n",
    "\n",
    "# with open('distance_list.p', 'wb') as f:\n",
    "#     pickle.dump(distance_list, f) "
   ]
  },
  {
   "cell_type": "code",
   "execution_count": 13,
   "metadata": {
    "collapsed": true
   },
   "outputs": [],
   "source": [
    "with open('distance_list.p', 'rb') as f:\n",
    "    distance_list = pickle.load(f)\n",
    "assert len(distance_list) == data.shape[0]"
   ]
  },
  {
   "cell_type": "code",
   "execution_count": 14,
   "metadata": {
    "collapsed": true
   },
   "outputs": [],
   "source": [
    "data['driving_distance'] = distance_list"
   ]
  },
  {
   "cell_type": "code",
   "execution_count": 15,
   "metadata": {
    "collapsed": true
   },
   "outputs": [],
   "source": [
    "# If driving distance is greater than 3 hours, I must have done something wrong:\n",
    "data.loc[data['driving_distance'] > 3 * 60 * 60, 'driving_distance'] = data['driving_distance'].median()\n",
    "\n",
    "data['driving_distance'].fillna(data['driving_distance'].median(), inplace=True)\n",
    "\n",
    "# I should revisit this. IE, if both addresses are in DC then set driving distance equal to half an hour"
   ]
  },
  {
   "cell_type": "code",
   "execution_count": null,
   "metadata": {
    "collapsed": true
   },
   "outputs": [],
   "source": []
  },
  {
   "cell_type": "code",
   "execution_count": 17,
   "metadata": {
    "collapsed": true
   },
   "outputs": [],
   "source": [
    "data.to_pickle('assets/engineered_data2.p')"
   ]
  }
 ],
 "metadata": {
  "kernelspec": {
   "display_name": "Python 3",
   "language": "python",
   "name": "python3"
  },
  "language_info": {
   "codemirror_mode": {
    "name": "ipython",
    "version": 3
   },
   "file_extension": ".py",
   "mimetype": "text/x-python",
   "name": "python",
   "nbconvert_exporter": "python",
   "pygments_lexer": "ipython3",
   "version": "3.6.3"
  }
 },
 "nbformat": 4,
 "nbformat_minor": 2
}
