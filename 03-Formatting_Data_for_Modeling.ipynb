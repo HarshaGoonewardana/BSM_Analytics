{
 "cells": [
  {
   "cell_type": "code",
   "execution_count": 1,
   "metadata": {
    "collapsed": true
   },
   "outputs": [],
   "source": [
    "# Import packages\n",
    "import numpy as np\n",
    "import pandas as pd\n",
    "import matplotlib.pyplot as plt\n",
    "import seaborn as sns\n",
    "\n",
    "np.random.seed(2012)\n",
    "\n",
    "# Configure visual settings:\n",
    "%matplotlib inline \n",
    "plt.rcParams['figure.figsize'] = (10.0, 8.0) \n",
    "plt.style.use(['bmh'])\n",
    "\n",
    "# Load the dataframe\n",
    "data = pd.read_pickle('assets/engineered_data2.p')"
   ]
  },
  {
   "cell_type": "code",
   "execution_count": 2,
   "metadata": {},
   "outputs": [
    {
     "data": {
      "text/plain": [
       "help_packing                                                            Yes\n",
       "boxes                                                                    45\n",
       "furniture                 Sectional Sofa (11'6\"x7'10\"x2'9\"), Desk (5'x2'...\n",
       "reference                       Good reviews online. Seen truck everywhere.\n",
       "mention                   Would like to receive two estimates: one for p...\n",
       "est_hours                                                              3.25\n",
       "truck                                                              Behemoth\n",
       "num_movers                                                                3\n",
       "rate                                                                    200\n",
       "travel_fee                                                                1\n",
       "min_hours                                                                 3\n",
       "loc1.lengthOfWalkOptID                                                    6\n",
       "loc1.sqFt                                                               800\n",
       "loc1.elevatorType                                                     Large\n",
       "loc1.stairs                                                               0\n",
       "loc1.parkingType                                               Loading Dock\n",
       "loc1.placeType                                          1 bedroom apartment\n",
       "loc1.lat                                                            38.8339\n",
       "loc1.lng                                                           -77.0624\n",
       "loc1.geocodedAddress      3201 Landover St #1723, Alexandria, VA 22305, USA\n",
       "loc2.lengthOfWalkOptID                                                    6\n",
       "loc2.sqFt                                                               700\n",
       "loc2.elevatorType                                                      None\n",
       "loc2.stairs                                                               0\n",
       "loc2.parkingType                                                Parking Lot\n",
       "loc2.placeType                                          1 bedroom apartment\n",
       "loc2.lat                                                            38.8573\n",
       "loc2.lng                                                           -77.0604\n",
       "loc2.geocodedAddress           815 18th St S #205, Arlington, VA 22202, USA\n",
       "actualRate                                                              200\n",
       "cc_hours                                                                5.5\n",
       "pre_move_notes            - yelper \\n- travel fee: 0.5 hr\\n- 1 br apt to...\n",
       "estSeconds1                                                            1958\n",
       "estSeconds2                                                             585\n",
       "loc1.fullAddress          3201 Landover Street #1723, Alexandria, VA, 22202\n",
       "loc2.fullAddress               815 18th Street S #205, Arlington, VA, 22202\n",
       "truck_type                                                              Big\n",
       "driving_distance                                                        587\n",
       "Name: 0, dtype: object"
      ]
     },
     "execution_count": 2,
     "metadata": {},
     "output_type": "execute_result"
    }
   ],
   "source": [
    "data.iloc[0,:]"
   ]
  },
  {
   "cell_type": "code",
   "execution_count": 3,
   "metadata": {
    "collapsed": true
   },
   "outputs": [],
   "source": [
    "# Final cleaning. \n",
    "# Remove moves that were done with NAT (not a truck):\n",
    "data = data[data['truck_type'] != 'NAT']"
   ]
  },
  {
   "cell_type": "code",
   "execution_count": 4,
   "metadata": {
    "collapsed": true
   },
   "outputs": [],
   "source": [
    "# Set 'help packing' to 1 if answer is yes, else 0:\n",
    "\n",
    "data['help_packing'] = [1 if x == 'Yes' else 0 for x in data['help_packing']]"
   ]
  },
  {
   "cell_type": "code",
   "execution_count": 5,
   "metadata": {
    "collapsed": true
   },
   "outputs": [],
   "source": [
    "# Turn placeType into two new variables: number of rooms and type of place\n",
    "\n",
    "data['loc1.placeType'] = data['loc1.placeType'].replace(to_replace='1 bedroom apartment + den/office', value = '2 bedroom apartment')\n",
    "\n",
    "data['loc2.placeType'] = data['loc2.placeType'].replace(to_replace='1 bedroom apartment + den/office', value = '2 bedroom apartment')\n",
    "\n",
    "data['loc2.placeType'] = data['loc2.placeType'].replace(to_replace = '5 bedroom townhouse apartment', value = '5 bedroom apartment')\n",
    "data['loc2.placeType'] = data['loc2.placeType'].replace(to_replace = '1 bedroom condo apartment', value = '1 bedroom apartment')\n",
    "\n",
    "data['loc1.placeType'].value_counts()\n",
    "\n",
    "import re\n",
    "\n",
    "\n",
    "def find_rooms(room_string):\n",
    "    \n",
    "    pattern = re.compile('[\\d+]')\n",
    "\n",
    "    foo = re.match(pattern, room_string)\n",
    "\n",
    "    try:\n",
    "        return(foo.group())\n",
    "    except:\n",
    "        return(1)\n",
    "\n",
    "\n",
    "data['loc1.rooms'] = [find_rooms(x) for x in data['loc1.placeType']]\n",
    "data['loc2.rooms'] = [find_rooms(x) for x in data['loc2.placeType']]\n",
    "\n",
    "def get_place_type(placeType_string):\n",
    "    if 'apartment' in placeType_string:\n",
    "        return('Apartment')\n",
    "    if 'house' in placeType_string:\n",
    "        return('House')\n",
    "    if 'Storage' in placeType_string:\n",
    "        return('Storage')\n",
    "    else:\n",
    "        return('Other')\n",
    "\n",
    "data['loc1.type'] = [get_place_type(x) for x in data['loc1.placeType']]\n",
    "data['loc2.type'] = [get_place_type(x) for x in data['loc2.placeType']]"
   ]
  },
  {
   "cell_type": "code",
   "execution_count": 6,
   "metadata": {},
   "outputs": [
    {
     "data": {
      "text/plain": [
       "num_movers       3\n",
       "est_hours     3.25\n",
       "truck_type     Big\n",
       "rate           200\n",
       "travel_fee       1\n",
       "min_hours        3\n",
       "cc_hours       5.5\n",
       "Name: 0, dtype: object"
      ]
     },
     "execution_count": 6,
     "metadata": {},
     "output_type": "execute_result"
    }
   ],
   "source": [
    "# Set up target variables:\n",
    "\n",
    "target_variables = ['num_movers','est_hours','truck_type','rate','travel_fee','min_hours','cc_hours']\n",
    "\n",
    "data.loc[0,target_variables]"
   ]
  },
  {
   "cell_type": "code",
   "execution_count": 7,
   "metadata": {},
   "outputs": [
    {
     "data": {
      "text/plain": [
       "help_packing                                                              1\n",
       "boxes                                                                    45\n",
       "furniture                 Sectional Sofa (11'6\"x7'10\"x2'9\"), Desk (5'x2'...\n",
       "reference                       Good reviews online. Seen truck everywhere.\n",
       "mention                   Would like to receive two estimates: one for p...\n",
       "loc1.lengthOfWalkOptID                                                    6\n",
       "loc1.sqFt                                                               800\n",
       "loc1.elevatorType                                                     Large\n",
       "loc1.stairs                                                               0\n",
       "loc1.parkingType                                               Loading Dock\n",
       "loc1.type                                                         Apartment\n",
       "loc2.lengthOfWalkOptID                                                    6\n",
       "loc2.sqFt                                                               700\n",
       "loc2.elevatorType                                                      None\n",
       "loc2.stairs                                                               0\n",
       "loc2.parkingType                                                Parking Lot\n",
       "loc2.type                                                         Apartment\n",
       "driving_distance                                                        587\n",
       "loc1.rooms                                                                1\n",
       "loc2.rooms                                                                1\n",
       "Name: 0, dtype: object"
      ]
     },
     "execution_count": 7,
     "metadata": {},
     "output_type": "execute_result"
    }
   ],
   "source": [
    "# Set up predictor variables:\n",
    "\n",
    "predictor_variables = ['help_packing','boxes','furniture','reference','mention','loc1.lengthOfWalkOptID',\n",
    " 'loc1.sqFt', 'loc1.elevatorType', 'loc1.stairs', 'loc1.parkingType', 'loc1.type',\n",
    " 'loc2.lengthOfWalkOptID', 'loc2.sqFt', 'loc2.elevatorType', 'loc2.stairs',\n",
    " 'loc2.parkingType', 'loc2.type','driving_distance', 'loc1.rooms','loc2.rooms']\n",
    "\n",
    "data.loc[0,predictor_variables]"
   ]
  },
  {
   "cell_type": "code",
   "execution_count": 8,
   "metadata": {},
   "outputs": [
    {
     "data": {
      "text/plain": [
       "truck                                                            Behemoth\n",
       "loc1.placeType                                        1 bedroom apartment\n",
       "loc1.lat                                                          38.8339\n",
       "loc1.lng                                                         -77.0624\n",
       "loc1.geocodedAddress    3201 Landover St #1723, Alexandria, VA 22305, USA\n",
       "loc2.placeType                                        1 bedroom apartment\n",
       "loc2.lat                                                          38.8573\n",
       "loc2.lng                                                         -77.0604\n",
       "loc2.geocodedAddress         815 18th St S #205, Arlington, VA 22202, USA\n",
       "actualRate                                                            200\n",
       "pre_move_notes          - yelper \\n- travel fee: 0.5 hr\\n- 1 br apt to...\n",
       "estSeconds1                                                          1958\n",
       "estSeconds2                                                           585\n",
       "loc1.fullAddress        3201 Landover Street #1723, Alexandria, VA, 22202\n",
       "loc2.fullAddress             815 18th Street S #205, Arlington, VA, 22202\n",
       "Name: 0, dtype: object"
      ]
     },
     "execution_count": 8,
     "metadata": {},
     "output_type": "execute_result"
    }
   ],
   "source": [
    "# Identify miscellaneous variables:\n",
    "\n",
    "misc_variables = [x for x in [x for x in data.columns if x not in predictor_variables] if x not in target_variables]\n",
    "data.loc[0, misc_variables]"
   ]
  },
  {
   "cell_type": "code",
   "execution_count": 9,
   "metadata": {
    "collapsed": true
   },
   "outputs": [],
   "source": [
    "categorical_variables = ['loc1.elevatorType','loc1.parkingType','loc1.type','loc2.elevatorType','loc2.parkingType','loc2.type']"
   ]
  },
  {
   "cell_type": "code",
   "execution_count": 10,
   "metadata": {},
   "outputs": [
    {
     "data": {
      "text/html": [
       "<div>\n",
       "<style>\n",
       "    .dataframe thead tr:only-child th {\n",
       "        text-align: right;\n",
       "    }\n",
       "\n",
       "    .dataframe thead th {\n",
       "        text-align: left;\n",
       "    }\n",
       "\n",
       "    .dataframe tbody tr th {\n",
       "        vertical-align: top;\n",
       "    }\n",
       "</style>\n",
       "<table border=\"1\" class=\"dataframe\">\n",
       "  <thead>\n",
       "    <tr style=\"text-align: right;\">\n",
       "      <th></th>\n",
       "      <th>loc1.elevatorType</th>\n",
       "      <th>loc1.parkingType</th>\n",
       "      <th>loc1.type</th>\n",
       "      <th>loc2.elevatorType</th>\n",
       "      <th>loc2.parkingType</th>\n",
       "      <th>loc2.type</th>\n",
       "    </tr>\n",
       "  </thead>\n",
       "  <tbody>\n",
       "    <tr>\n",
       "      <th>0</th>\n",
       "      <td>Large</td>\n",
       "      <td>Loading Dock</td>\n",
       "      <td>Apartment</td>\n",
       "      <td>None</td>\n",
       "      <td>Parking Lot</td>\n",
       "      <td>Apartment</td>\n",
       "    </tr>\n",
       "    <tr>\n",
       "      <th>1</th>\n",
       "      <td>None</td>\n",
       "      <td>Street</td>\n",
       "      <td>Apartment</td>\n",
       "      <td>None</td>\n",
       "      <td>Street</td>\n",
       "      <td>Apartment</td>\n",
       "    </tr>\n",
       "    <tr>\n",
       "      <th>3</th>\n",
       "      <td>Medium</td>\n",
       "      <td>Loading Dock</td>\n",
       "      <td>Apartment</td>\n",
       "      <td>None</td>\n",
       "      <td>Parking Lot</td>\n",
       "      <td>Apartment</td>\n",
       "    </tr>\n",
       "    <tr>\n",
       "      <th>4</th>\n",
       "      <td>Medium</td>\n",
       "      <td>Driveway</td>\n",
       "      <td>Apartment</td>\n",
       "      <td>None</td>\n",
       "      <td>Driveway</td>\n",
       "      <td>House</td>\n",
       "    </tr>\n",
       "    <tr>\n",
       "      <th>7</th>\n",
       "      <td>Small</td>\n",
       "      <td>Driveway</td>\n",
       "      <td>Apartment</td>\n",
       "      <td>None</td>\n",
       "      <td>Street</td>\n",
       "      <td>House</td>\n",
       "    </tr>\n",
       "    <tr>\n",
       "      <th>8</th>\n",
       "      <td>None</td>\n",
       "      <td>Street</td>\n",
       "      <td>Apartment</td>\n",
       "      <td>Medium</td>\n",
       "      <td>Parking Lot</td>\n",
       "      <td>Storage</td>\n",
       "    </tr>\n",
       "    <tr>\n",
       "      <th>10</th>\n",
       "      <td>None</td>\n",
       "      <td>Parking Lot</td>\n",
       "      <td>House</td>\n",
       "      <td>None</td>\n",
       "      <td>Driveway</td>\n",
       "      <td>House</td>\n",
       "    </tr>\n",
       "    <tr>\n",
       "      <th>12</th>\n",
       "      <td>Medium</td>\n",
       "      <td>Loading Dock</td>\n",
       "      <td>Apartment</td>\n",
       "      <td>None</td>\n",
       "      <td>Street</td>\n",
       "      <td>House</td>\n",
       "    </tr>\n",
       "    <tr>\n",
       "      <th>13</th>\n",
       "      <td>Medium</td>\n",
       "      <td>Loading Dock</td>\n",
       "      <td>Apartment</td>\n",
       "      <td>None</td>\n",
       "      <td>Street</td>\n",
       "      <td>Other</td>\n",
       "    </tr>\n",
       "    <tr>\n",
       "      <th>14</th>\n",
       "      <td>None</td>\n",
       "      <td>Driveway</td>\n",
       "      <td>Apartment</td>\n",
       "      <td>None</td>\n",
       "      <td>Driveway</td>\n",
       "      <td>House</td>\n",
       "    </tr>\n",
       "  </tbody>\n",
       "</table>\n",
       "</div>"
      ],
      "text/plain": [
       "   loc1.elevatorType loc1.parkingType  loc1.type loc2.elevatorType  \\\n",
       "0              Large     Loading Dock  Apartment              None   \n",
       "1               None           Street  Apartment              None   \n",
       "3             Medium     Loading Dock  Apartment              None   \n",
       "4             Medium         Driveway  Apartment              None   \n",
       "7              Small         Driveway  Apartment              None   \n",
       "8               None           Street  Apartment            Medium   \n",
       "10              None      Parking Lot      House              None   \n",
       "12            Medium     Loading Dock  Apartment              None   \n",
       "13            Medium     Loading Dock  Apartment              None   \n",
       "14              None         Driveway  Apartment              None   \n",
       "\n",
       "   loc2.parkingType  loc2.type  \n",
       "0       Parking Lot  Apartment  \n",
       "1            Street  Apartment  \n",
       "3       Parking Lot  Apartment  \n",
       "4          Driveway      House  \n",
       "7            Street      House  \n",
       "8       Parking Lot    Storage  \n",
       "10         Driveway      House  \n",
       "12           Street      House  \n",
       "13           Street      Other  \n",
       "14         Driveway      House  "
      ]
     },
     "execution_count": 10,
     "metadata": {},
     "output_type": "execute_result"
    }
   ],
   "source": [
    "data[categorical_variables].head(10)"
   ]
  },
  {
   "cell_type": "code",
   "execution_count": 11,
   "metadata": {
    "collapsed": true
   },
   "outputs": [],
   "source": [
    "numerical_variables = ['help_packing','boxes','loc1.sqFt','loc2.sqFt','loc1.stairs','loc2.stairs','driving_distance','loc1.rooms','loc2.rooms']"
   ]
  },
  {
   "cell_type": "code",
   "execution_count": 12,
   "metadata": {},
   "outputs": [
    {
     "data": {
      "text/plain": [
       "help_packing                int64\n",
       "boxes                     float64\n",
       "furniture                  object\n",
       "reference                  object\n",
       "mention                    object\n",
       "loc1.lengthOfWalkOptID    float64\n",
       "loc1.sqFt                 float64\n",
       "loc1.elevatorType          object\n",
       "loc1.stairs                 int64\n",
       "loc1.parkingType           object\n",
       "loc1.type                  object\n",
       "loc2.lengthOfWalkOptID    float64\n",
       "loc2.sqFt                 float64\n",
       "loc2.elevatorType          object\n",
       "loc2.stairs                 int64\n",
       "loc2.parkingType           object\n",
       "loc2.type                  object\n",
       "driving_distance          float64\n",
       "loc1.rooms                 object\n",
       "loc2.rooms                 object\n",
       "dtype: object"
      ]
     },
     "execution_count": 12,
     "metadata": {},
     "output_type": "execute_result"
    }
   ],
   "source": [
    "data[predictor_variables].dtypes"
   ]
  },
  {
   "cell_type": "code",
   "execution_count": 13,
   "metadata": {
    "collapsed": true
   },
   "outputs": [],
   "source": [
    "text_variables = ['furniture','reference','mention']"
   ]
  },
  {
   "cell_type": "code",
   "execution_count": 14,
   "metadata": {
    "collapsed": true
   },
   "outputs": [],
   "source": [
    "ordinal_variables = ['loc1.lengthOfWalkOptID','loc2.lengthOfWalkOptID']"
   ]
  },
  {
   "cell_type": "code",
   "execution_count": 15,
   "metadata": {
    "collapsed": true
   },
   "outputs": [],
   "source": [
    "assert len(predictor_variables) == len(categorical_variables + numerical_variables + text_variables + ordinal_variables)"
   ]
  },
  {
   "cell_type": "code",
   "execution_count": null,
   "metadata": {
    "collapsed": true
   },
   "outputs": [],
   "source": []
  },
  {
   "cell_type": "code",
   "execution_count": null,
   "metadata": {
    "collapsed": true
   },
   "outputs": [],
   "source": []
  },
  {
   "cell_type": "code",
   "execution_count": 16,
   "metadata": {
    "collapsed": true
   },
   "outputs": [],
   "source": [
    "model_data = data.drop(misc_variables, axis=1, inplace=False)\n",
    "model_data = pd.get_dummies(model_data, columns = categorical_variables)\n",
    "categorical_to_drop = ['loc1.elevatorType_None','loc2.elevatorType_None',\n",
    "                       'loc1.parkingType_Not specified','loc2.parkingType_Not specified',\n",
    "                      'loc1.type_Other','loc2.type_Other']\n",
    "model_data.drop(categorical_to_drop, axis=1, inplace=True)\n",
    "\n",
    "\n",
    "model_data.to_pickle('assets\\model_data.p')"
   ]
  },
  {
   "cell_type": "code",
   "execution_count": 17,
   "metadata": {
    "collapsed": true
   },
   "outputs": [],
   "source": [
    "variable_names = (target_variables, predictor_variables, categorical_variables, numerical_variables, text_variables, ordinal_variables)"
   ]
  },
  {
   "cell_type": "code",
   "execution_count": 19,
   "metadata": {
    "collapsed": true
   },
   "outputs": [],
   "source": [
    "import pickle\n",
    "with open('var_names.p', 'wb') as f:\n",
    "    pickle.dump(variable_names, f)"
   ]
  },
  {
   "cell_type": "code",
   "execution_count": 23,
   "metadata": {},
   "outputs": [
    {
     "data": {
      "text/plain": [
       "['loc1.elevatorType',\n",
       " 'loc1.parkingType',\n",
       " 'loc1.type',\n",
       " 'loc2.elevatorType',\n",
       " 'loc2.parkingType',\n",
       " 'loc2.type']"
      ]
     },
     "execution_count": 23,
     "metadata": {},
     "output_type": "execute_result"
    }
   ],
   "source": [
    "#\n",
    "categorical_variables"
   ]
  }
 ],
 "metadata": {
  "kernelspec": {
   "display_name": "Python 3",
   "language": "python",
   "name": "python3"
  },
  "language_info": {
   "codemirror_mode": {
    "name": "ipython",
    "version": 3
   },
   "file_extension": ".py",
   "mimetype": "text/x-python",
   "name": "python",
   "nbconvert_exporter": "python",
   "pygments_lexer": "ipython3",
   "version": "3.6.3"
  }
 },
 "nbformat": 4,
 "nbformat_minor": 2
}
