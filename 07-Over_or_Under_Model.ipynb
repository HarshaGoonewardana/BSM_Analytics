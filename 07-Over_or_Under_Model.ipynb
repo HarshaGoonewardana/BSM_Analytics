{
 "cells": [
  {
   "cell_type": "code",
   "execution_count": 1,
   "metadata": {
    "collapsed": true
   },
   "outputs": [],
   "source": [
    "# Import packages\n",
    "import numpy as np\n",
    "import pandas as pd\n",
    "import matplotlib.pyplot as plt\n",
    "import seaborn as sns\n",
    "import pickle\n",
    "np.random.seed(2012)\n",
    "\n",
    "# Configure visual settings:\n",
    "%matplotlib inline \n",
    "plt.rcParams['figure.figsize'] = (10.0, 8.0) \n",
    "plt.style.use(['bmh'])\n",
    "\n",
    "# Load the dataframe\n",
    "\n",
    "data = pd.read_pickle('assets/training_data.p')\n",
    "\n",
    "# Import lists of variable names\n",
    "with open('var_names.p', 'rb') as f:\n",
    "    target_variables, predictor_variables, categorical_variables, numerical_variables, text_variables, ordinal_variables = pickle.load(f)"
   ]
  },
  {
   "cell_type": "code",
   "execution_count": 2,
   "metadata": {
    "collapsed": true
   },
   "outputs": [],
   "source": [
    "# Drop 'rate' column\n",
    "data.drop('rate', axis=1, inplace=True)\n",
    "target_variables.remove('rate')\n",
    "data.drop('index', axis=1, inplace=True)\n",
    "\n",
    "assert data.isnull().sum().sum() == 0\n",
    "\n",
    "data.reset_index(drop=True, inplace=True)"
   ]
  },
  {
   "cell_type": "code",
   "execution_count": 3,
   "metadata": {
    "collapsed": true
   },
   "outputs": [],
   "source": [
    "X = data.drop(target_variables, axis=1, inplace=False).select_dtypes(include=[np.number])"
   ]
  },
  {
   "cell_type": "code",
   "execution_count": 4,
   "metadata": {
    "collapsed": true
   },
   "outputs": [],
   "source": [
    "data['deviation'] = data['cc_hours'] - data['est_hours']"
   ]
  },
  {
   "cell_type": "code",
   "execution_count": 5,
   "metadata": {
    "collapsed": true
   },
   "outputs": [],
   "source": [
    "y = [1 if x > 0  else 0 for x in data['deviation']]"
   ]
  },
  {
   "cell_type": "code",
   "execution_count": 6,
   "metadata": {
    "collapsed": true
   },
   "outputs": [],
   "source": [
    "from sklearn.model_selection import train_test_split"
   ]
  },
  {
   "cell_type": "code",
   "execution_count": 7,
   "metadata": {
    "collapsed": true
   },
   "outputs": [],
   "source": [
    "X_train, X_val, y_train, y_val = train_test_split(X,y)"
   ]
  },
  {
   "cell_type": "code",
   "execution_count": 8,
   "metadata": {
    "collapsed": true
   },
   "outputs": [],
   "source": [
    "# Begin modeling!\n",
    "from sklearn.ensemble import RandomForestClassifier"
   ]
  },
  {
   "cell_type": "code",
   "execution_count": 9,
   "metadata": {},
   "outputs": [
    {
     "data": {
      "text/plain": [
       "0.65112335735481142"
      ]
     },
     "execution_count": 9,
     "metadata": {},
     "output_type": "execute_result"
    }
   ],
   "source": [
    "forest = RandomForestClassifier(max_depth=300)\n",
    "forest.fit(X_train, y_train)\n",
    "forest.score(X_val, y_val)"
   ]
  },
  {
   "cell_type": "code",
   "execution_count": 10,
   "metadata": {
    "collapsed": true
   },
   "outputs": [],
   "source": [
    "from sklearn.model_selection import GridSearchCV"
   ]
  },
  {
   "cell_type": "code",
   "execution_count": 11,
   "metadata": {
    "collapsed": true
   },
   "outputs": [],
   "source": [
    "# param_grid = {'n_estimators':[500, 750]}\n",
    "# param_grid = {'class_weight' :['balanced',None]}\n",
    "\n",
    "# forest = RandomForestClassifier(max_features=None, max_depth=300, n_estimators=500, class_weight='balanced')\n",
    "\n",
    "# grid_forest = GridSearchCV(forest, param_grid)\n",
    "\n",
    "# grid_forest.fit(X_train, y_train)"
   ]
  },
  {
   "cell_type": "code",
   "execution_count": 12,
   "metadata": {},
   "outputs": [
    {
     "data": {
      "text/plain": [
       "0.68673166596015256"
      ]
     },
     "execution_count": 12,
     "metadata": {},
     "output_type": "execute_result"
    }
   ],
   "source": [
    "forest = RandomForestClassifier(max_features=None, max_depth=300, n_estimators=500, class_weight='balanced')\n",
    "\n",
    "forest.fit(X_train, y_train, )\n",
    "forest.score(X_val, y_val)"
   ]
  },
  {
   "cell_type": "code",
   "execution_count": null,
   "metadata": {
    "collapsed": true
   },
   "outputs": [],
   "source": []
  },
  {
   "cell_type": "code",
   "execution_count": 13,
   "metadata": {
    "collapsed": true
   },
   "outputs": [],
   "source": [
    "from sklearn.metrics import confusion_matrix, roc_auc_score\n",
    "CM = confusion_matrix(y_val, forest.predict(X_val))\n",
    "\n",
    "TN = CM[0][0]\n",
    "TP = CM[1][1]\n",
    "FN = CM[1][0]\n",
    "FP = CM[0][1]"
   ]
  },
  {
   "cell_type": "code",
   "execution_count": 14,
   "metadata": {},
   "outputs": [
    {
     "data": {
      "text/plain": [
       "array([[1401,  147],\n",
       "       [ 592,  219]], dtype=int64)"
      ]
     },
     "execution_count": 14,
     "metadata": {},
     "output_type": "execute_result"
    }
   ],
   "source": [
    "CM"
   ]
  },
  {
   "cell_type": "code",
   "execution_count": 15,
   "metadata": {},
   "outputs": [
    {
     "data": {
      "text/plain": [
       "0.27003699136868065"
      ]
     },
     "execution_count": 15,
     "metadata": {},
     "output_type": "execute_result"
    }
   ],
   "source": [
    "TP / (TP + FN)"
   ]
  },
  {
   "cell_type": "code",
   "execution_count": 16,
   "metadata": {},
   "outputs": [
    {
     "data": {
      "text/plain": [
       "0.33898664405342377"
      ]
     },
     "execution_count": 16,
     "metadata": {},
     "output_type": "execute_result"
    }
   ],
   "source": [
    "np.mean(y)"
   ]
  },
  {
   "cell_type": "code",
   "execution_count": 17,
   "metadata": {},
   "outputs": [
    {
     "data": {
      "text/plain": [
       "0.69582962941721871"
      ]
     },
     "execution_count": 17,
     "metadata": {},
     "output_type": "execute_result"
    }
   ],
   "source": [
    "roc_auc_score(y_val, forest.predict_proba(X_val)[:,1])"
   ]
  },
  {
   "cell_type": "code",
   "execution_count": 18,
   "metadata": {
    "collapsed": true
   },
   "outputs": [],
   "source": [
    "import pickle\n",
    "with open('models/over_under_model.p', 'wb') as f:\n",
    "    pickle.dump(forest, f)"
   ]
  },
  {
   "cell_type": "code",
   "execution_count": 21,
   "metadata": {},
   "outputs": [
    {
     "name": "stdout",
     "output_type": "stream",
     "text": [
      "Features sorted by their score:\n",
      "[(0.11609999999999999, 'driving_distance'), (0.0591, 'loc2.sqFt'), (0.048899999999999999, 'loc1.sqFt'), (0.0465, 'furniture_list_length'), (0.033799999999999997, 'furniture_polarity'), (0.032399999999999998, 'furniture_subjectivity'), (0.027, 'mention_polarity'), (0.025100000000000001, 'boxes'), (0.024199999999999999, 'num_noun_phrases'), (0.022200000000000001, 'mention_subjectivity'), (0.0183, 'loc1.lengthOfWalkOptID'), (0.0178, 'loc2.lengthOfWalkOptID'), (0.016500000000000001, 'table'), (0.0121, 'chair'), (0.0111, 'help_packing'), (0.010200000000000001, 'small'), (0.0099000000000000008, 'loc2.stairs'), (0.0095999999999999992, 'loc1.stairs'), (0.0088999999999999999, 'reference_polarity'), (0.0088000000000000005, 'mattress'), (0.0086, 'reference_subjectivity'), (0.0085000000000000006, 'bed'), (0.0080000000000000002, 'tv'), (0.0074999999999999997, 'loc2.parkingType_Street'), (0.0074999999999999997, 'dresser'), (0.0074000000000000003, 'large'), (0.0074000000000000003, 'desk'), (0.0071999999999999998, 'room'), (0.0070000000000000001, 'size'), (0.0067000000000000002, 'dining'), (0.0066, 'stand'), (0.0064000000000000003, 'queen'), (0.0061999999999999998, 'loc1.parkingType_Street'), (0.0061999999999999998, 'frame'), (0.0061000000000000004, 'bookshelf'), (0.0060000000000000001, 'sofa'), (0.0057999999999999996, 'bookcase'), (0.0057000000000000002, 'lamp'), (0.0057000000000000002, 'couch'), (0.0055999999999999999, 'box'), (0.0054999999999999997, 'cabinet'), (0.0054000000000000003, 'kitchen'), (0.0053, 'king'), (0.0051999999999999998, 'drawer'), (0.0051999999999999998, 'coffee'), (0.0051000000000000004, 'medium'), (0.0047000000000000002, 'mirror'), (0.0045999999999999999, 'spring'), (0.0045999999999999999, 'ikea'), (0.0045999999999999999, 'chest'), (0.0044999999999999997, 'glass'), (0.0044999999999999997, 'end'), (0.0044000000000000003, 'shelf'), (0.0044000000000000003, 'rug'), (0.0044000000000000003, 'loc1.elevatorType_Medium'), (0.0041999999999999997, 'tall'), (0.0041000000000000003, 'book'), (0.0040000000000000001, 'sized'), (0.0040000000000000001, 'console'), (0.0038999999999999998, 'fragile'), (0.0038, 'stool'), (0.0038, 'loc1.type_Apartment'), (0.0037000000000000002, 'storage'), (0.0037000000000000002, 'leather'), (0.0037000000000000002, 'inch'), (0.0035999999999999999, 'wooden'), (0.0035999999999999999, 'loc2.type_Apartment'), (0.0035999999999999999, 'loc1.elevatorType_Large'), (0.0035999999999999999, 'living'), (0.0035999999999999999, 'bar'), (0.0035000000000000001, 'ottoman'), (0.0035000000000000001, 'loc1.parkingType_Parking Lot'), (0.0033999999999999998, 'piece'), (0.0033999999999999998, 'loc2.elevatorType_Large'), (0.0033999999999999998, 'headboard'), (0.0033999999999999998, 'ft'), (0.0033, 'unit'), (0.0033, 'seat'), (0.0033, 'rack'), (0.0033, 'office'), (0.0033, 'night'), (0.0033, 'bench'), (0.0032000000000000002, 'outdoor'), (0.0032000000000000002, 'loc2.elevatorType_Medium'), (0.0032000000000000002, 'loc1.parkingType_Loading Dock'), (0.0032000000000000002, 'light'), (0.0030999999999999999, 'metal'), (0.0030999999999999999, 'loc2.parkingType_Parking Lot'), (0.0030999999999999999, 'loc2.parkingType_Loading Dock'), (0.0030999999999999999, 'arm'), (0.0030000000000000001, 'wood'), (0.0030000000000000001, 'loc1.parkingType_Driveway'), (0.0030000000000000001, 'folding'), (0.0028999999999999998, 'set'), (0.0028999999999999998, 'nightstands'), (0.0028999999999999998, 'need'), (0.0028999999999999998, 'armchair'), (0.0028, 'trunk'), (0.0028, 'sectional'), (0.0028, 'heavy'), (0.0028, 'foot'), (0.0028, 'floor'), (0.0028, 'case'), (0.0027000000000000001, 'loc1.elevatorType_Small'), (0.0027000000000000001, 'furniture_'), (0.0027000000000000001, 'bedside'), (0.0027000000000000001, 'bedroom'), (0.0025000000000000001, 'loc2.parkingType_Driveway'), (0.0025000000000000001, 'antique'), (0.0023999999999999998, 'shelving'), (0.0023999999999999998, 'nightstand'), (0.0023999999999999998, 'item'), (0.0023999999999999998, 'disassembled'), (0.0023, 'screen'), (0.0023, 'round'), (0.0023, 'loc1.type_House'), (0.0023, 'flat'), (0.0023, 'clothes'), (0.0023, 'cart'), (0.0023, 'bike'), (0.0022000000000000001, 'standing'), (0.0022000000000000001, 'loveseat'), (0.0022000000000000001, 'loc2.type_House'), (0.0022000000000000001, 'computer'), (0.0020999999999999999, 'long'), (0.002, 'plastic'), (0.002, 'entertainment'), (0.0019, 'wide'), (0.0019, 'wall'), (0.0019, 'loc2.type_Storage'), (0.0019, 'high'), (0.0018, 'crib'), (0.0016999999999999999, 'twin'), (0.0016999999999999999, 'loc2.elevatorType_Small'), (0.0015, 'love'), (0.0014, 'loc1.type_Storage'), (0.0014, 'framed')]\n"
     ]
    }
   ],
   "source": [
    "print(\"Features sorted by their score:\")\n",
    "print(sorted(zip(map(lambda x: round(x, 4), forest.feature_importances_), X_train.columns), \n",
    "             reverse=True))"
   ]
  }
 ],
 "metadata": {
  "kernelspec": {
   "display_name": "Python 3",
   "language": "python",
   "name": "python3"
  },
  "language_info": {
   "codemirror_mode": {
    "name": "ipython",
    "version": 3
   },
   "file_extension": ".py",
   "mimetype": "text/x-python",
   "name": "python",
   "nbconvert_exporter": "python",
   "pygments_lexer": "ipython3",
   "version": "3.6.3"
  }
 },
 "nbformat": 4,
 "nbformat_minor": 2
}
