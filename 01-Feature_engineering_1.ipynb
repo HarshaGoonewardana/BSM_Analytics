{
 "cells": [
  {
   "cell_type": "code",
   "execution_count": 2,
   "metadata": {
    "collapsed": true
   },
   "outputs": [],
   "source": [
    "# Import packages\n",
    "import numpy as np\n",
    "import pandas as pd\n",
    "import matplotlib.pyplot as plt\n",
    "import seaborn as sns\n",
    "\n",
    "np.random.seed(2012)"
   ]
  },
  {
   "cell_type": "code",
   "execution_count": 3,
   "metadata": {
    "collapsed": true
   },
   "outputs": [],
   "source": [
    "# Configure visual settings:\n",
    "%matplotlib inline \n",
    "plt.rcParams['figure.figsize'] = (10.0, 8.0) \n",
    "plt.style.use(['bmh'])"
   ]
  },
  {
   "cell_type": "code",
   "execution_count": 4,
   "metadata": {},
   "outputs": [
    {
     "data": {
      "text/plain": [
       "help_packing                                                            Yes\n",
       "boxes                                                               40 - 50\n",
       "furniture                 Sectional Sofa (11'6\"x7'10\"x2'9\"), Desk (5'x2'...\n",
       "reference                       Good reviews online. Seen truck everywhere.\n",
       "mention                   Would like to receive two estimates: one for p...\n",
       "est_hours                                                              3.25\n",
       "truck                                                              Behemoth\n",
       "num_movers                                                                3\n",
       "rate                                                                    200\n",
       "travel_fee                                                                1\n",
       "min_hours                                                                 3\n",
       "loc1.lengthOfWalkOptID                                                    6\n",
       "loc1.sqFt                                                               800\n",
       "loc1.elevatorType                                                Yes, large\n",
       "loc1.stairs                                                            None\n",
       "loc1.parkingType                                               Loading Dock\n",
       "loc1.placeType                                          1 bedroom apartment\n",
       "loc1.lat                                                            38.8339\n",
       "loc1.lng                                                           -77.0624\n",
       "loc1.geocodedAddress      3201 Landover St #1723, Alexandria, VA 22305, USA\n",
       "loc2.lengthOfWalkOptID                                                    6\n",
       "loc2.sqFt                                                               700\n",
       "loc2.elevatorType                                                      None\n",
       "loc2.stairs                                                       3 flights\n",
       "loc2.parkingType                                                Parking Lot\n",
       "loc2.placeType                                          1 bedroom apartment\n",
       "loc2.lat                                                            38.8573\n",
       "loc2.lng                                                           -77.0604\n",
       "loc2.geocodedAddress           815 18th St S #205, Arlington, VA 22202, USA\n",
       "actualRate                                                              200\n",
       "cc_hours                                                                5.5\n",
       "pre_move_notes            - yelper \\n- travel fee: 0.5 hr\\n- 1 br apt to...\n",
       "estSeconds1                                                            1958\n",
       "estSeconds2                                                             585\n",
       "loc1.fullAddress          3201 Landover Street #1723, Alexandria, VA, 22202\n",
       "loc2.fullAddress               815 18th Street S #205, Arlington, VA, 22202\n",
       "truck_type                                                              Big\n",
       "Name: 0, dtype: object"
      ]
     },
     "execution_count": 4,
     "metadata": {},
     "output_type": "execute_result"
    }
   ],
   "source": [
    "# Load the dataframe\n",
    "data = pd.read_pickle('assets/clean_data.p')\n",
    "\n",
    "data.drop(['loc1.timeRestr','loc2.timeRestr','loc1.county','loc2.county','loc1.region','loc2.region','loc1.address','loc2.address','loc1.city','loc2.city','loc1.state','loc2.state','loc1.zipCode','loc2.zipCode','reference_category','move_datetime','loc1.geocodeResultCode','loc2.geocodeResultCode','estMeters1','estMeters2'], axis=1, inplace=True)\n",
    "data.iloc[0,:]"
   ]
  },
  {
   "cell_type": "code",
   "execution_count": null,
   "metadata": {
    "collapsed": true
   },
   "outputs": [],
   "source": []
  },
  {
   "cell_type": "code",
   "execution_count": 5,
   "metadata": {},
   "outputs": [
    {
     "data": {
      "text/plain": [
       "1890"
      ]
     },
     "execution_count": 5,
     "metadata": {},
     "output_type": "execute_result"
    }
   ],
   "source": [
    "# Except for null values, square footage is good.\n",
    "data['loc1.sqFt'].isnull().sum()"
   ]
  },
  {
   "cell_type": "markdown",
   "metadata": {},
   "source": [
    "### Turn estimate of boxes into integer:\n",
    "\n",
    "Since most estimates of boxes are things like 10 - 20, 20 - 30, use regex to find all numbers in each string, and take their average:"
   ]
  },
  {
   "cell_type": "code",
   "execution_count": 6,
   "metadata": {},
   "outputs": [
    {
     "data": {
      "text/plain": [
       "10 - 20                 3110\n",
       "20 - 30                 2796\n",
       "1 - 10                  1812\n",
       "30 - 40                 1502\n",
       "40 - 50                  805\n",
       "None                     707\n",
       "50 - 60                  468\n",
       "60 - 70                  222\n",
       "70 - 80                  149\n",
       "90 - 100                 126\n",
       "100 - 125                 85\n",
       "80 - 90                   80\n",
       "125 - 150                 47\n",
       "                          30\n",
       "150 - 175                 29\n",
       "200+                      23\n",
       "175 - 200                 11\n",
       "0                          8\n",
       "10-20                      4\n",
       "20-30                      4\n",
       "1-10                       3\n",
       "40-50                      3\n",
       "16-20                      2\n",
       "50-60                      2\n",
       "80 - 90 (revised to        2\n",
       "20                         2\n",
       "25                         1\n",
       "60-70                      1\n",
       "30-40                      1\n",
       "40                         1\n",
       "30 - 50                    1\n",
       "70                         1\n",
       "85                         1\n",
       "Please Select              1\n",
       "50-70                      1\n",
       "5-10                       1\n",
       " 40 - 50                   1\n",
       "10-15                      1\n",
       "30-35                      1\n",
       "Name: boxes, dtype: int64"
      ]
     },
     "execution_count": 6,
     "metadata": {},
     "output_type": "execute_result"
    }
   ],
   "source": [
    "data['boxes'].value_counts()"
   ]
  },
  {
   "cell_type": "code",
   "execution_count": 7,
   "metadata": {
    "collapsed": true
   },
   "outputs": [],
   "source": [
    "import re"
   ]
  },
  {
   "cell_type": "code",
   "execution_count": 8,
   "metadata": {
    "collapsed": true
   },
   "outputs": [],
   "source": [
    "def find_boxes(box_string):\n",
    "    \n",
    "    pattern = re.compile('\\d+')\n",
    "\n",
    "    foo = re.findall(pattern, box_string)\n",
    "\n",
    "    return(np.mean([int(x) for x in foo]))\n"
   ]
  },
  {
   "cell_type": "code",
   "execution_count": 9,
   "metadata": {},
   "outputs": [
    {
     "name": "stderr",
     "output_type": "stream",
     "text": [
      "C:\\Users\\benps\\Anaconda3\\lib\\site-packages\\numpy\\core\\fromnumeric.py:2909: RuntimeWarning: Mean of empty slice.\n",
      "  out=out, **kwargs)\n"
     ]
    }
   ],
   "source": [
    "data['boxes'] = data['boxes'].astype(str).apply(find_boxes)"
   ]
  },
  {
   "cell_type": "code",
   "execution_count": 10,
   "metadata": {},
   "outputs": [
    {
     "data": {
      "image/png": "[encoded data removed]",
      "text/plain": [
       "<matplotlib.figure.Figure at 0x19bb9775c18>"
      ]
     },
     "metadata": {},
     "output_type": "display_data"
    }
   ],
   "source": [
    "bins = np.arange(0,210,10)\n",
    "\n",
    "\n",
    "_ = data['boxes'].plot(kind='hist', bins=bins)\n",
    "_ = plt.title('Distribution of Number of Boxes')\n",
    "_ = plt.xticks(np.arange(0,210,20))\n",
    "_ = plt.xlabel('Estimate of Boxes')"
   ]
  },
  {
   "cell_type": "code",
   "execution_count": 11,
   "metadata": {},
   "outputs": [
    {
     "data": {
      "text/plain": [
       "array([  6.,   3.,   5.,   2.,   4.,  nan,   7.,   1.,   9.,  10.,   8.])"
      ]
     },
     "execution_count": 11,
     "metadata": {},
     "output_type": "execute_result"
    }
   ],
   "source": [
    "# What is this?!\n",
    "data['loc1.lengthOfWalkOptID'].unique()"
   ]
  },
  {
   "cell_type": "markdown",
   "metadata": {},
   "source": [
    "### Handling elevator size:"
   ]
  },
  {
   "cell_type": "code",
   "execution_count": 12,
   "metadata": {
    "collapsed": true
   },
   "outputs": [],
   "source": [
    "def elevator_parser(elev_string):\n",
    "        if 'medium' in elev_string:\n",
    "            return('Medium')\n",
    "        elif 'large' in elev_string:\n",
    "            return('Large')\n",
    "        elif 'small' in elev_string:\n",
    "            return('Small')\n",
    "        elif 'no' in elev_string:\n",
    "            return('None')    "
   ]
  },
  {
   "cell_type": "code",
   "execution_count": 13,
   "metadata": {
    "collapsed": true
   },
   "outputs": [],
   "source": [
    "data['loc1.elevatorType'] = data['loc1.elevatorType'].apply(elevator_parser)\n",
    "data['loc2.elevatorType'] = data['loc2.elevatorType'].apply(elevator_parser)"
   ]
  },
  {
   "cell_type": "code",
   "execution_count": 14,
   "metadata": {
    "collapsed": true
   },
   "outputs": [],
   "source": [
    "data['loc1.elevatorType'].fillna('None', inplace=True)\n",
    "data['loc2.elevatorType'].fillna('None', inplace=True)"
   ]
  },
  {
   "cell_type": "code",
   "execution_count": 15,
   "metadata": {},
   "outputs": [
    {
     "data": {
      "text/plain": [
       "None      12505\n",
       "Medium     6479\n",
       "Large      4075\n",
       "Small      1031\n",
       "dtype: int64"
      ]
     },
     "execution_count": 15,
     "metadata": {},
     "output_type": "execute_result"
    }
   ],
   "source": [
    "data['loc1.elevatorType'].value_counts() + data['loc2.elevatorType'].value_counts()"
   ]
  },
  {
   "cell_type": "markdown",
   "metadata": {},
   "source": [
    "### Handling stairs"
   ]
  },
  {
   "cell_type": "code",
   "execution_count": 16,
   "metadata": {
    "collapsed": true
   },
   "outputs": [],
   "source": [
    "def stair_parser(stair_string):\n",
    "    if type(stair_string) == int:\n",
    "        return(stair_string)\n",
    "    if 'step' in stair_string:\n",
    "        return(1)\n",
    "    elif 'stair' in stair_string:\n",
    "        return(1)\n",
    "    elif stair_string == '':\n",
    "        return(0)\n",
    "    elif stair_string == 'None':\n",
    "        return(0)\n",
    "    elif type(stair_string) == str:\n",
    "        pattern = re.compile('\\d+')\n",
    "\n",
    "        try:\n",
    "            foo = re.search(pattern, stair_string).group()\n",
    "        except:\n",
    "            foo = 0\n",
    "        return(int(foo))\n",
    "              \n",
    "    else:\n",
    "        return(0)\n"
   ]
  },
  {
   "cell_type": "code",
   "execution_count": 17,
   "metadata": {
    "collapsed": true
   },
   "outputs": [],
   "source": [
    "data['loc1.stairs'] = data['loc1.stairs'].apply(stair_parser)\n",
    "\n",
    "data['loc2.stairs'] = data['loc1.stairs'].apply(stair_parser)"
   ]
  },
  {
   "cell_type": "code",
   "execution_count": 22,
   "metadata": {
    "collapsed": true
   },
   "outputs": [],
   "source": [
    "stair_multiplier = [1 if x == 'None' else 0 for x in data['loc1.elevatorType']]\n",
    "\n",
    "data['loc1.stairs'] = data['loc1.stairs'] * stair_multiplier"
   ]
  },
  {
   "cell_type": "code",
   "execution_count": 29,
   "metadata": {
    "collapsed": true
   },
   "outputs": [],
   "source": [
    "stair_multiplier = [1 if x == 'None' else 0 for x in data['loc2.elevatorType']]\n",
    "\n",
    "data['loc2.stairs'] = data['loc2.stairs'] * stair_multiplier"
   ]
  },
  {
   "cell_type": "code",
   "execution_count": 30,
   "metadata": {},
   "outputs": [
    {
     "data": {
      "text/plain": [
       "<matplotlib.axes._subplots.AxesSubplot at 0x19bb9493240>"
      ]
     },
     "execution_count": 30,
     "metadata": {},
     "output_type": "execute_result"
    },
    {
     "data": {
      "image/png": "[encoded data removed]",
      "text/plain": [
       "<matplotlib.figure.Figure at 0x19bb9493c18>"
      ]
     },
     "metadata": {},
     "output_type": "display_data"
    }
   ],
   "source": [
    "data['loc1.stairs'].plot(kind='hist')"
   ]
  },
  {
   "cell_type": "markdown",
   "metadata": {},
   "source": [
    "### Parking Type"
   ]
  },
  {
   "cell_type": "code",
   "execution_count": 31,
   "metadata": {
    "collapsed": true
   },
   "outputs": [],
   "source": [
    "def parking_type_parser(ptype_string):\n",
    "    if ptype_string not in ['Driveway','Loading Dock','Parking Lot','Street']:\n",
    "        return('Not specified')\n",
    "\n",
    "    else:\n",
    "        return(ptype_string)\n"
   ]
  },
  {
   "cell_type": "code",
   "execution_count": 32,
   "metadata": {},
   "outputs": [
    {
     "data": {
      "text/plain": [
       "True"
      ]
     },
     "execution_count": 32,
     "metadata": {},
     "output_type": "execute_result"
    }
   ],
   "source": [
    "data['loc1.parkingType'][3] in ['Driveway','Loading Dock','Parking Lot','Street']"
   ]
  },
  {
   "cell_type": "code",
   "execution_count": 33,
   "metadata": {
    "collapsed": true
   },
   "outputs": [],
   "source": [
    "data['loc1.parkingType'] = data['loc1.parkingType'].apply(parking_type_parser)\n",
    "data['loc2.parkingType'] = data['loc2.parkingType'].apply(parking_type_parser)"
   ]
  },
  {
   "cell_type": "code",
   "execution_count": 34,
   "metadata": {},
   "outputs": [
    {
     "data": {
      "text/plain": [
       "Street           9032\n",
       "Loading Dock     8309\n",
       "Driveway         3507\n",
       "Parking Lot      2631\n",
       "Not specified     611\n",
       "dtype: int64"
      ]
     },
     "execution_count": 34,
     "metadata": {},
     "output_type": "execute_result"
    }
   ],
   "source": [
    "data['loc1.parkingType'].value_counts() + data['loc2.parkingType'].value_counts()"
   ]
  },
  {
   "cell_type": "markdown",
   "metadata": {},
   "source": [
    "## Handling placetype"
   ]
  },
  {
   "cell_type": "code",
   "execution_count": 35,
   "metadata": {
    "collapsed": true
   },
   "outputs": [],
   "source": [
    "def place_type_parser(ptype_string):\n",
    "    ptype_string = ptype_string.lower()\n",
    "    ptype_string = ptype_string.replace('apt','apartment')\n",
    "    pattern = re.compile('\\d+ bedroom apartment \\+')\n",
    "    if re.match(pattern, ptype_string):\n",
    "        return(ptype_string) \n",
    "    elif 'studio' in ptype_string:\n",
    "        return('1 bedroom apartment')\n",
    "    elif re.match('\\d+ bedroom apartment', ptype_string):\n",
    "        return(ptype_string)\n",
    "    elif re.match('\\d+ bedroom house', ptype_string):\n",
    "        return(ptype_string)\n",
    "    elif re.search('storage', ptype_string):\n",
    "        return('Storage')\n",
    "    elif re.search('warehouse', ptype_string):\n",
    "        return('Storage')\n",
    "    elif re.match('\\d+ bedroom', ptype_string):\n",
    "        return(ptype_string + ' apartment')\n",
    "    else:\n",
    "        return('Other')"
   ]
  },
  {
   "cell_type": "code",
   "execution_count": 36,
   "metadata": {
    "collapsed": true
   },
   "outputs": [],
   "source": [
    "data['loc1.placeType'] = data['loc1.placeType'].apply(place_type_parser)\n",
    "\n",
    "data['loc2.placeType'] = data['loc2.placeType'].apply(place_type_parser)"
   ]
  },
  {
   "cell_type": "code",
   "execution_count": 37,
   "metadata": {},
   "outputs": [
    {
     "data": {
      "text/plain": [
       "help_packing                                                            Yes\n",
       "boxes                                                                    45\n",
       "furniture                 Sectional Sofa (11'6\"x7'10\"x2'9\"), Desk (5'x2'...\n",
       "reference                       Good reviews online. Seen truck everywhere.\n",
       "mention                   Would like to receive two estimates: one for p...\n",
       "est_hours                                                              3.25\n",
       "truck                                                              Behemoth\n",
       "num_movers                                                                3\n",
       "rate                                                                    200\n",
       "travel_fee                                                                1\n",
       "min_hours                                                                 3\n",
       "loc1.lengthOfWalkOptID                                                    6\n",
       "loc1.sqFt                                                               800\n",
       "loc1.elevatorType                                                     Large\n",
       "loc1.stairs                                                               0\n",
       "loc1.parkingType                                               Loading Dock\n",
       "loc1.placeType                                          1 bedroom apartment\n",
       "loc1.lat                                                            38.8339\n",
       "loc1.lng                                                           -77.0624\n",
       "loc1.geocodedAddress      3201 Landover St #1723, Alexandria, VA 22305, USA\n",
       "loc2.lengthOfWalkOptID                                                    6\n",
       "loc2.sqFt                                                               700\n",
       "loc2.elevatorType                                                      None\n",
       "loc2.stairs                                                               0\n",
       "loc2.parkingType                                                Parking Lot\n",
       "loc2.placeType                                          1 bedroom apartment\n",
       "loc2.lat                                                            38.8573\n",
       "loc2.lng                                                           -77.0604\n",
       "loc2.geocodedAddress           815 18th St S #205, Arlington, VA 22202, USA\n",
       "actualRate                                                              200\n",
       "cc_hours                                                                5.5\n",
       "pre_move_notes            - yelper \\n- travel fee: 0.5 hr\\n- 1 br apt to...\n",
       "estSeconds1                                                            1958\n",
       "estSeconds2                                                             585\n",
       "loc1.fullAddress          3201 Landover Street #1723, Alexandria, VA, 22202\n",
       "loc2.fullAddress               815 18th Street S #205, Arlington, VA, 22202\n",
       "truck_type                                                              Big\n",
       "Name: 0, dtype: object"
      ]
     },
     "execution_count": 37,
     "metadata": {},
     "output_type": "execute_result"
    }
   ],
   "source": [
    "data.iloc[0,:]"
   ]
  },
  {
   "cell_type": "markdown",
   "metadata": {},
   "source": [
    "### Pickle dat shit!"
   ]
  },
  {
   "cell_type": "code",
   "execution_count": 38,
   "metadata": {
    "collapsed": true
   },
   "outputs": [],
   "source": [
    "data.to_pickle('assets/engineered_data1.p')"
   ]
  }
 ],
 "metadata": {
  "kernelspec": {
   "display_name": "Python 3",
   "language": "python",
   "name": "python3"
  },
  "language_info": {
   "codemirror_mode": {
    "name": "ipython",
    "version": 3
   },
   "file_extension": ".py",
   "mimetype": "text/x-python",
   "name": "python",
   "nbconvert_exporter": "python",
   "pygments_lexer": "ipython3",
   "version": "3.6.3"
  }
 },
 "nbformat": 4,
 "nbformat_minor": 2
}
