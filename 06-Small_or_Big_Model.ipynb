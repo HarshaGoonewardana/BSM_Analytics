{
 "cells": [
  {
   "cell_type": "code",
   "execution_count": 1,
   "metadata": {
    "collapsed": true
   },
   "outputs": [],
   "source": [
    "# Import packages\n",
    "import numpy as np\n",
    "import pandas as pd\n",
    "import matplotlib.pyplot as plt\n",
    "import seaborn as sns\n",
    "import pickle\n",
    "np.random.seed(2012)\n",
    "\n",
    "# Configure visual settings:\n",
    "%matplotlib inline \n",
    "plt.rcParams['figure.figsize'] = (10.0, 8.0) \n",
    "plt.style.use(['bmh'])\n",
    "\n",
    "# Load the dataframe\n",
    "\n",
    "data = pd.read_pickle('assets/training_data.p')\n",
    "\n",
    "# Import lists of variable names\n",
    "with open('var_names.p', 'rb') as f:\n",
    "    target_variables, predictor_variables, categorical_variables, numerical_variables, text_variables, ordinal_variables = pickle.load(f)"
   ]
  },
  {
   "cell_type": "code",
   "execution_count": 2,
   "metadata": {
    "collapsed": true
   },
   "outputs": [],
   "source": [
    "# Drop 'rate' column\n",
    "data.drop('rate', axis=1, inplace=True)\n",
    "target_variables.remove('rate')\n",
    "data.drop('index', axis=1, inplace=True)"
   ]
  },
  {
   "cell_type": "code",
   "execution_count": 3,
   "metadata": {
    "collapsed": true
   },
   "outputs": [],
   "source": [
    "assert data.isnull().sum().sum() == 0"
   ]
  },
  {
   "cell_type": "code",
   "execution_count": 4,
   "metadata": {
    "collapsed": true
   },
   "outputs": [],
   "source": [
    "data.reset_index(drop=True, inplace=True)"
   ]
  },
  {
   "cell_type": "code",
   "execution_count": 5,
   "metadata": {
    "collapsed": true
   },
   "outputs": [],
   "source": [
    "X = data.drop(target_variables, axis=1, inplace=False).select_dtypes(include=[np.number])"
   ]
  },
  {
   "cell_type": "code",
   "execution_count": 6,
   "metadata": {},
   "outputs": [
    {
     "data": {
      "text/plain": [
       "loc1.elevatorType_Medium           0.00\n",
       "loc1.elevatorType_Small            0.00\n",
       "loc1.parkingType_Driveway          0.00\n",
       "loc1.parkingType_Loading Dock      1.00\n",
       "loc1.parkingType_Parking Lot       0.00\n",
       "loc1.parkingType_Street            0.00\n",
       "loc1.type_Apartment                1.00\n",
       "loc1.type_House                    0.00\n",
       "loc1.type_Storage                  0.00\n",
       "loc2.elevatorType_Large            0.00\n",
       "loc2.elevatorType_Medium           0.00\n",
       "loc2.elevatorType_Small            0.00\n",
       "loc2.parkingType_Driveway          1.00\n",
       "loc2.parkingType_Loading Dock      0.00\n",
       "loc2.parkingType_Parking Lot       0.00\n",
       "loc2.parkingType_Street            0.00\n",
       "loc2.type_Apartment                0.00\n",
       "loc2.type_House                    1.00\n",
       "loc2.type_Storage                  0.00\n",
       "furniture_polarity                 0.00\n",
       "furniture_subjectivity             0.00\n",
       "reference_polarity                 0.00\n",
       "reference_subjectivity             0.00\n",
       "mention_polarity                  -0.20\n",
       "mention_subjectivity               0.55\n",
       "furniture_list_length            181.00\n",
       "num_noun_phrases                   8.00\n",
       "antique                            0.00\n",
       "arm                                0.00\n",
       "armchair                           0.00\n",
       "                                  ...  \n",
       "queen                              1.00\n",
       "rack                               0.00\n",
       "room                               0.00\n",
       "round                              0.00\n",
       "rug                                1.00\n",
       "screen                             0.00\n",
       "seat                               0.00\n",
       "sectional                          1.00\n",
       "set                                0.00\n",
       "shelf                              0.00\n",
       "shelving                           0.00\n",
       "size                               0.00\n",
       "sized                              0.00\n",
       "small                              0.00\n",
       "sofa                               0.00\n",
       "spring                             0.00\n",
       "stand                              0.00\n",
       "standing                           0.00\n",
       "stool                              0.00\n",
       "storage                            0.00\n",
       "table                              0.00\n",
       "tall                               0.00\n",
       "trunk                              0.00\n",
       "tv                                 1.00\n",
       "twin                               0.00\n",
       "unit                               0.00\n",
       "wall                               0.00\n",
       "wide                               0.00\n",
       "wood                               0.00\n",
       "wooden                             0.00\n",
       "Name: 0, Length: 127, dtype: float64"
      ]
     },
     "execution_count": 6,
     "metadata": {},
     "output_type": "execute_result"
    }
   ],
   "source": [
    "X.iloc[0,10:]"
   ]
  },
  {
   "cell_type": "code",
   "execution_count": 7,
   "metadata": {
    "collapsed": true
   },
   "outputs": [],
   "source": [
    "y = [1 if x == 'Big' else 0 for x in data['truck_type']]"
   ]
  },
  {
   "cell_type": "code",
   "execution_count": 8,
   "metadata": {
    "collapsed": true
   },
   "outputs": [],
   "source": [
    "from sklearn.model_selection import train_test_split"
   ]
  },
  {
   "cell_type": "code",
   "execution_count": 9,
   "metadata": {
    "collapsed": true
   },
   "outputs": [],
   "source": [
    "X_train, X_val, y_train, y_val = train_test_split(X,y)"
   ]
  },
  {
   "cell_type": "code",
   "execution_count": 10,
   "metadata": {
    "collapsed": true
   },
   "outputs": [],
   "source": [
    "# Begin modeling!\n",
    "from sklearn.ensemble import RandomForestClassifier"
   ]
  },
  {
   "cell_type": "code",
   "execution_count": 11,
   "metadata": {},
   "outputs": [
    {
     "data": {
      "text/plain": [
       "0.77236116998728277"
      ]
     },
     "execution_count": 11,
     "metadata": {},
     "output_type": "execute_result"
    }
   ],
   "source": [
    "forest = RandomForestClassifier(max_depth=300)\n",
    "forest.fit(X_train, y_train)\n",
    "forest.score(X_val, y_val)"
   ]
  },
  {
   "cell_type": "code",
   "execution_count": 12,
   "metadata": {
    "collapsed": true
   },
   "outputs": [],
   "source": [
    "from sklearn.model_selection import GridSearchCV"
   ]
  },
  {
   "cell_type": "code",
   "execution_count": 13,
   "metadata": {
    "collapsed": true,
    "scrolled": true
   },
   "outputs": [],
   "source": [
    "# param_grid = {'n_estimators':[750, 1000],'max_depth':[500]}\n",
    "# param_grid = {'class_weight' :['balanced',None]} # No class weighting is best.\n",
    "\n",
    "\n",
    "# forest = RandomForestClassifier(max_depth=500, n_estimators = 1000)\n",
    "\n",
    "# grid_forest = GridSearchCV(forest, param_grid)\n",
    "\n",
    "# grid_forest.fit(X_train, y_train)\n",
    "\n",
    "# grid_forest.best_score_ # Not too bad given how many big truck jobs can do small truck jobs."
   ]
  },
  {
   "cell_type": "code",
   "execution_count": 14,
   "metadata": {},
   "outputs": [
    {
     "data": {
      "text/plain": [
       "0.80796947859262402"
      ]
     },
     "execution_count": 14,
     "metadata": {},
     "output_type": "execute_result"
    }
   ],
   "source": [
    "forest = RandomForestClassifier(class_weight=None, max_depth=500, n_estimators=1000)\n",
    "\n",
    "forest.fit(X_train, y_train)\n",
    "forest.score(X_val, y_val)"
   ]
  },
  {
   "cell_type": "code",
   "execution_count": 15,
   "metadata": {
    "collapsed": true
   },
   "outputs": [],
   "source": [
    "from sklearn.linear_model import LogisticRegressionCV"
   ]
  },
  {
   "cell_type": "code",
   "execution_count": 16,
   "metadata": {},
   "outputs": [
    {
     "data": {
      "text/plain": [
       "0.79694785926239931"
      ]
     },
     "execution_count": 16,
     "metadata": {},
     "output_type": "execute_result"
    }
   ],
   "source": [
    "logreg = LogisticRegressionCV()\n",
    "logreg.fit(X_train, y_train)\n",
    "logreg.score(X_val, y_val)"
   ]
  },
  {
   "cell_type": "code",
   "execution_count": 17,
   "metadata": {
    "collapsed": true
   },
   "outputs": [],
   "source": [
    "from sklearn.neighbors import KNeighborsClassifier"
   ]
  },
  {
   "cell_type": "code",
   "execution_count": 18,
   "metadata": {},
   "outputs": [
    {
     "data": {
      "text/plain": [
       "0.7882685512367491"
      ]
     },
     "execution_count": 18,
     "metadata": {},
     "output_type": "execute_result"
    }
   ],
   "source": [
    "nn = KNeighborsClassifier()\n",
    "\n",
    "grid_nn = GridSearchCV(nn, param_grid={'n_neighbors':[3,5,10,15]})\n",
    "\n",
    "\n",
    "\n",
    "grid_nn.fit(X_train, y_train)\n",
    "grid_nn.best_score_"
   ]
  },
  {
   "cell_type": "code",
   "execution_count": 19,
   "metadata": {
    "collapsed": true
   },
   "outputs": [],
   "source": [
    "# Random Forest does the best!"
   ]
  },
  {
   "cell_type": "code",
   "execution_count": 20,
   "metadata": {
    "collapsed": true
   },
   "outputs": [],
   "source": [
    "from sklearn.metrics import confusion_matrix, roc_auc_score"
   ]
  },
  {
   "cell_type": "code",
   "execution_count": 21,
   "metadata": {},
   "outputs": [
    {
     "data": {
      "text/plain": [
       "0.8531718765041143"
      ]
     },
     "execution_count": 21,
     "metadata": {},
     "output_type": "execute_result"
    }
   ],
   "source": [
    "roc_auc_score(y_val, forest.predict_proba(X_val)[:,1])"
   ]
  },
  {
   "cell_type": "code",
   "execution_count": 22,
   "metadata": {
    "collapsed": true
   },
   "outputs": [],
   "source": [
    "CM = confusion_matrix(y_val, forest.predict(X_val))\n",
    "\n",
    "TN = CM[0][0]\n",
    "TP = CM[1][1]\n",
    "FN = CM[1][0]\n",
    "FP = CM[0][1]"
   ]
  },
  {
   "cell_type": "code",
   "execution_count": 23,
   "metadata": {},
   "outputs": [
    {
     "data": {
      "text/plain": [
       "0.90751086281812543"
      ]
     },
     "execution_count": 23,
     "metadata": {},
     "output_type": "execute_result"
    }
   ],
   "source": [
    "# True negative rate\n",
    "TN / (TN + FP) # 90.7% of the time, my model predicts a small truck job to be an actual small truck job"
   ]
  },
  {
   "cell_type": "code",
   "execution_count": 27,
   "metadata": {},
   "outputs": [],
   "source": [
    "import pickle\n",
    "with open('models/small_or_big_model.p', 'wb') as f:\n",
    "    pickle.dump(forest, f)"
   ]
  },
  {
   "cell_type": "code",
   "execution_count": 28,
   "metadata": {},
   "outputs": [
    {
     "name": "stdout",
     "output_type": "stream",
     "text": [
      "Features sorted by their score:\n",
      "[(0.098299999999999998, 'loc1.sqFt'), (0.067400000000000002, 'loc2.sqFt'), (0.063899999999999998, 'boxes'), (0.040599999999999997, 'furniture_list_length'), (0.0293, 'num_noun_phrases'), (0.026200000000000001, 'driving_distance'), (0.024, 'chair'), (0.022599999999999999, 'loc2.type_House'), (0.021399999999999999, 'table'), (0.020199999999999999, 'furniture_polarity'), (0.0189, 'furniture_subjectivity'), (0.018499999999999999, 'loc2.type_Apartment'), (0.015900000000000001, 'loc1.type_House'), (0.015299999999999999, 'mention_polarity'), (0.0149, 'dining'), (0.014500000000000001, 'help_packing'), (0.0137, 'mention_subjectivity'), (0.012999999999999999, 'crib'), (0.012800000000000001, 'loc2.lengthOfWalkOptID'), (0.012800000000000001, 'bed'), (0.012500000000000001, 'loc1.lengthOfWalkOptID'), (0.0101, 'large'), (0.0097000000000000003, 'loc2.stairs'), (0.0092999999999999992, 'room'), (0.0088000000000000005, 'cabinet'), (0.0085000000000000006, 'mattress'), (0.0083000000000000001, 'desk'), (0.0080999999999999996, 'small'), (0.0076, 'loc1.stairs'), (0.0074999999999999997, 'dresser'), (0.0073000000000000001, 'tv'), (0.0070000000000000001, 'king'), (0.0068999999999999999, 'sofa'), (0.0068999999999999999, 'loc1.type_Apartment'), (0.0063, 'reference_subjectivity'), (0.0063, 'reference_polarity'), (0.0063, 'queen'), (0.0060000000000000001, 'bookshelf'), (0.0057000000000000002, 'stand'), (0.0055999999999999999, 'couch'), (0.0054000000000000003, 'size'), (0.0054000000000000003, 'box'), (0.0051000000000000004, 'chest'), (0.0050000000000000001, 'twin'), (0.0048999999999999998, 'lamp'), (0.0047000000000000002, 'frame'), (0.0047000000000000002, 'coffee'), (0.0045999999999999999, 'set'), (0.0044999999999999997, 'shelf'), (0.0044999999999999997, 'kitchen'), (0.0044999999999999997, 'drawer'), (0.0044999999999999997, 'bookcase'), (0.0043, 'end'), (0.0041999999999999997, 'medium'), (0.0041999999999999997, 'loc2.parkingType_Driveway'), (0.0040000000000000001, 'loc2.parkingType_Loading Dock'), (0.0038999999999999998, 'loc2.elevatorType_Medium'), (0.0038, 'tall'), (0.0038, 'ottoman'), (0.0038, 'glass'), (0.0037000000000000002, 'loc1.parkingType_Street'), (0.0035999999999999999, 'outdoor'), (0.0035999999999999999, 'loc2.parkingType_Street'), (0.0035999999999999999, 'book'), (0.0035000000000000001, 'rug'), (0.0035000000000000001, 'office'), (0.0033999999999999998, 'sized'), (0.0033999999999999998, 'mirror'), (0.0033999999999999998, 'loc1.elevatorType_Medium'), (0.0033999999999999998, 'ikea'), (0.0033999999999999998, 'bar'), (0.0033, 'wooden'), (0.0033, 'loc1.parkingType_Loading Dock'), (0.0033, 'loc1.elevatorType_Large'), (0.0033, 'bench'), (0.0032000000000000002, 'sectional'), (0.0030999999999999999, 'unit'), (0.0030999999999999999, 'spring'), (0.0030999999999999999, 'piece'), (0.0030999999999999999, 'night'), (0.0030000000000000001, 'nightstands'), (0.0028999999999999998, 'seat'), (0.0028, 'wood'), (0.0028, 'stool'), (0.0028, 'loc1.parkingType_Parking Lot'), (0.0027000000000000001, 'storage'), (0.0027000000000000001, 'loc1.parkingType_Driveway'), (0.0027000000000000001, 'headboard'), (0.0027000000000000001, 'floor'), (0.0025999999999999999, 'screen'), (0.0025999999999999999, 'inch'), (0.0025999999999999999, 'heavy'), (0.0025999999999999999, 'flat'), (0.0025999999999999999, 'console'), (0.0025999999999999999, 'bedside'), (0.0025000000000000001, 'metal'), (0.0025000000000000001, 'bedroom'), (0.0023999999999999998, 'trunk'), (0.0023999999999999998, 'living'), (0.0023999999999999998, 'furniture_'), (0.0023999999999999998, 'foot'), (0.0023, 'shelving'), (0.0023, 'rack'), (0.0023, 'love'), (0.0023, 'loc2.elevatorType_Large'), (0.0023, 'high'), (0.0023, 'ft'), (0.0023, 'case'), (0.0022000000000000001, 'light'), (0.0022000000000000001, 'leather'), (0.0022000000000000001, 'entertainment'), (0.0020999999999999999, 'long'), (0.0020999999999999999, 'loc2.parkingType_Parking Lot'), (0.0020999999999999999, 'item'), (0.0020999999999999999, 'fragile'), (0.0020999999999999999, 'folding'), (0.002, 'nightstand'), (0.002, 'loveseat'), (0.002, 'loc2.type_Storage'), (0.002, 'arm'), (0.0019, 'bike'), (0.0019, 'armchair'), (0.0019, 'antique'), (0.0018, 'need'), (0.0018, 'loc1.type_Storage'), (0.0016999999999999999, 'standing'), (0.0016999999999999999, 'clothes'), (0.0016999999999999999, 'cart'), (0.0016000000000000001, 'wall'), (0.0016000000000000001, 'round'), (0.0016000000000000001, 'framed'), (0.0015, 'wide'), (0.0015, 'plastic'), (0.0015, 'disassembled'), (0.0015, 'computer'), (0.001, 'loc1.elevatorType_Small'), (0.00089999999999999998, 'loc2.elevatorType_Small')]\n"
     ]
    }
   ],
   "source": [
    "print(\"Features sorted by their score:\")\n",
    "print(sorted(zip(map(lambda x: round(x, 4), forest.feature_importances_), X_train.columns), \n",
    "             reverse=True))"
   ]
  }
 ],
 "metadata": {
  "kernelspec": {
   "display_name": "Python 3",
   "language": "python",
   "name": "python3"
  },
  "language_info": {
   "codemirror_mode": {
    "name": "ipython",
    "version": 3
   },
   "file_extension": ".py",
   "mimetype": "text/x-python",
   "name": "python",
   "nbconvert_exporter": "python",
   "pygments_lexer": "ipython3",
   "version": "3.6.3"
  }
 },
 "nbformat": 4,
 "nbformat_minor": 2
}
