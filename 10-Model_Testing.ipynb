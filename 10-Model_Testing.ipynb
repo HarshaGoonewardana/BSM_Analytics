{
 "cells": [
  {
   "cell_type": "code",
   "execution_count": null,
   "metadata": {
    "collapsed": true
   },
   "outputs": [],
   "source": [
    "# Import packages\n",
    "import numpy as np\n",
    "import pandas as pd\n",
    "import matplotlib.pyplot as plt\n",
    "import seaborn as sns\n",
    "import pickle\n",
    "np.random.seed(2012)\n",
    "\n",
    "# Configure visual settings:\n",
    "%matplotlib inline \n",
    "plt.rcParams['figure.figsize'] = (10.0, 8.0) \n",
    "plt.style.use(['bmh'])\n",
    "\n",
    "# Load the dataframes\n",
    "\n",
    "test = pd.read_pickle('assets/testing_data.p')\n",
    "\n",
    "# Import lists of variable names\n",
    "with open('var_names.p', 'rb') as f:\n",
    "    targe\n",
    "    \n",
    "# Import models:\n",
    "with open('models/small_or_big_model.p', 'rb') as f:\n",
    "    big_or_small_model = pick.load(f)\n",
    "\n",
    "with open('models/small_truck_model.p', 'rb') as f:\n",
    "    small_truck_model = pick.load(f)\n",
    "    \n",
    "# with open('models/big_truck}_model.p', 'rb') as f:\n",
    "#     big_truck_model = pick.load(f)\n",
    "    \n",
    "with open('models/over_under_model.p', 'rb') as f:\n",
    "    over_under_model = pick.load(f)"
   ]
  },
  {
   "cell_type": "code",
   "execution_count": null,
   "metadata": {
    "collapsed": true
   },
   "outputs": [],
   "source": [
    "# Import all the models, then run them on the test set. I haven't done this yet because \n",
    "# I consider all my models prototypes, and I want to keep engineering features and improving\n",
    "# them before I look at the test set. "
   ]
  }
 ],
 "metadata": {
  "kernelspec": {
   "display_name": "Python 3",
   "language": "python",
   "name": "python3"
  },
  "language_info": {
   "codemirror_mode": {
    "name": "ipython",
    "version": 3
   },
   "file_extension": ".py",
   "mimetype": "text/x-python",
   "name": "python",
   "nbconvert_exporter": "python",
   "pygments_lexer": "ipython3",
   "version": "3.6.3"
  }
 },
 "nbformat": 4,
 "nbformat_minor": 2
}
